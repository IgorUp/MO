{
 "nbformat": 4,
 "nbformat_minor": 0,
 "metadata": {
  "colab": {
   "name": "lab6.ipynb",
   "provenance": [
    {
     "file_id": "1OFTTj5Z6TjUcZtqbvtblX--mF37_n-mY",
     "timestamp": 1587328955539
    },
    {
     "file_id": "1Ay-6syXutL1B8FHdpSFslyob3qeN5WQJ",
     "timestamp": 1587289013557
    }
   ],
   "collapsed_sections": []
  },
  "kernelspec": {
   "name": "python3",
   "display_name": "Python 3"
  },
  "accelerator": "GPU"
 },
 "cells": [
  {
   "cell_type": "code",
   "metadata": {
    "id": "sB9jBlAyFh9v",
    "colab_type": "code",
    "outputId": "2cfb6aae-93d2-421d-923e-e939b5394ce0",
    "executionInfo": {
     "status": "ok",
     "timestamp": 1587329158031,
     "user_tz": -180,
     "elapsed": 9911,
     "user": {
      "displayName": "Екатерина Тузина",
      "photoUrl": "",
      "userId": "07782360743022317546"
     }
    },
    "colab": {
     "base_uri": "https://localhost:8080/",
     "height": 68
    }
   },
   "source": [
    "# Install Kaggle library\n",
    "!pip install -q kaggle\n",
    "\n",
    "import os\n",
    "os.environ['KAGGLE_USERNAME'] = \"katetuzina\" # username from the json file\n",
    "os.environ['KAGGLE_KEY'] = \"7578fa8dde4c34ef17a35fab34c9b088\" # key from the json file\n",
    "#!kaggle datasets download -d iarunava/happy-house-dataset # api copied from kaggle\n",
    "!kaggle datasets download -d datamunge/sign-language-mnist"
   ],
   "execution_count": null,
   "outputs": []
  },
  {
   "cell_type": "code",
   "metadata": {
    "id": "CI3MVe9GzfIZ",
    "colab_type": "code",
    "outputId": "61f09daf-e090-4f31-ed4b-7b16c6789c26",
    "executionInfo": {
     "status": "ok",
     "timestamp": 1587329160426,
     "user_tz": -180,
     "elapsed": 12271,
     "user": {
      "displayName": "Екатерина Тузина",
      "photoUrl": "",
      "userId": "07782360743022317546"
     }
    },
    "colab": {
     "base_uri": "https://localhost:8080/",
     "height": 34
    }
   },
   "source": [
    "!ls"
   ],
   "execution_count": null,
   "outputs": []
  },
  {
   "cell_type": "code",
   "metadata": {
    "id": "SOjBavAmF5Pi",
    "colab_type": "code",
    "outputId": "c78e0898-5ef8-406b-8ae3-dfb84d3ab975",
    "executionInfo": {
     "status": "ok",
     "timestamp": 1587329165147,
     "user_tz": -180,
     "elapsed": 16964,
     "user": {
      "displayName": "Екатерина Тузина",
      "photoUrl": "",
      "userId": "07782360743022317546"
     }
    },
    "colab": {
     "base_uri": "https://localhost:8080/",
     "height": 153
    }
   },
   "source": [
    "!unzip sign-language-mnist.zip"
   ],
   "execution_count": null,
   "outputs": []
  },
  {
   "cell_type": "code",
   "metadata": {
    "id": "Yu8wI_aOz7jP",
    "colab_type": "code",
    "outputId": "e6f188f8-ae2d-4d15-ab96-34279efee46b",
    "executionInfo": {
     "status": "ok",
     "timestamp": 1587329167262,
     "user_tz": -180,
     "elapsed": 19058,
     "user": {
      "displayName": "Екатерина Тузина",
      "photoUrl": "",
      "userId": "07782360743022317546"
     }
    },
    "colab": {
     "base_uri": "https://localhost:8080/",
     "height": 68
    }
   },
   "source": [
    "!ls"
   ],
   "execution_count": null,
   "outputs": []
  },
  {
   "cell_type": "code",
   "metadata": {
    "id": "voyFW5hGz4pC",
    "colab_type": "code",
    "outputId": "4fc9708a-a09e-4834-ec33-47986ee4b95c",
    "executionInfo": {
     "status": "ok",
     "timestamp": 1587329171775,
     "user_tz": -180,
     "elapsed": 23555,
     "user": {
      "displayName": "Екатерина Тузина",
      "photoUrl": "",
      "userId": "07782360743022317546"
     }
    },
    "colab": {
     "base_uri": "https://localhost:8080/",
     "height": 493
    }
   },
   "source": [
    "import pandas as pd\n",
    "df = pd.read_csv('sign_mnist_train.csv')\n",
    "print(df)\n",
    "\n",
    "testDF = pd.read_csv('sign_mnist_test.csv')\n",
    "print(testDF)\n"
   ],
   "execution_count": null,
   "outputs": []
  },
  {
   "cell_type": "code",
   "metadata": {
    "id": "8DzL6ZqR0J3b",
    "colab_type": "code",
    "outputId": "4a7d254b-680d-4691-c614-d2190d0db58b",
    "executionInfo": {
     "status": "ok",
     "timestamp": 1587329171780,
     "user_tz": -180,
     "elapsed": 23532,
     "user": {
      "displayName": "Екатерина Тузина",
      "photoUrl": "",
      "userId": "07782360743022317546"
     }
    },
    "colab": {
     "base_uri": "https://localhost:8080/",
     "height": 51
    }
   },
   "source": [
    "def getData(df):\n",
    "  y = df[\"label\"].values.reshape((df.shape[0], 1)) \n",
    "  x = df.drop(columns=\"label\").values.reshape((df.shape[0], 28, 28, 1))\n",
    "  print(y.shape, x.shape)\n",
    "  return x, y\n",
    "\n",
    "x, y = getData(df)\n",
    "tX, tY = getData(testDF)"
   ],
   "execution_count": null,
   "outputs": []
  },
  {
   "cell_type": "code",
   "metadata": {
    "id": "mNuBZI-L0jKi",
    "colab_type": "code",
    "colab": {}
   },
   "source": [
    "from sklearn.model_selection import train_test_split\n",
    "x_train, x_val, y_train, y_val = train_test_split(x, y, test_size=.25)"
   ],
   "execution_count": null,
   "outputs": []
  },
  {
   "cell_type": "code",
   "metadata": {
    "id": "u5yEYUgV07yH",
    "colab_type": "code",
    "colab": {}
   },
   "source": [
    "from tensorflow.keras import layers, models, Sequential\n",
    "\n",
    "model = Sequential([\n",
    "    layers.Conv2D(64, kernel_size=3, activation='relu', input_shape=(28,28,1)),\n",
    "    layers.Conv2D(32, kernel_size=5, activation='relu'),\n",
    "    layers.Dropout(0.25),\n",
    "    layers.MaxPooling2D((2, 2)),\n",
    "    layers.Conv2D(64, (3, 3), activation='relu', padding='same'),\n",
    "    layers.Dropout(0.25),\n",
    "    layers.MaxPooling2D((2, 2)),\n",
    "    layers.Conv2D(128, (3, 3), activation='relu', padding='same'),\n",
    "    layers.Dropout(0.25),\n",
    "    layers.MaxPooling2D((2, 2)),\n",
    "    layers.Flatten(),\n",
    "    layers.Dense(500, activation='relu'),\n",
    "    layers.Dropout(0.5),\n",
    "    layers.Dense(25, activation='softmax')\n",
    "])\n",
    "\n",
    "model.compile(optimizer='adam', loss='sparse_categorical_crossentropy', metrics=['accuracy'])"
   ],
   "execution_count": null,
   "outputs": []
  },
  {
   "cell_type": "code",
   "metadata": {
    "id": "RZ9tl7qx1hpo",
    "colab_type": "code",
    "outputId": "0365d709-1d19-4297-89d1-913387487321",
    "executionInfo": {
     "status": "ok",
     "timestamp": 1587329444080,
     "user_tz": -180,
     "elapsed": 30639,
     "user": {
      "displayName": "Екатерина Тузина",
      "photoUrl": "",
      "userId": "07782360743022317546"
     }
    },
    "colab": {
     "base_uri": "https://localhost:8080/",
     "height": 374
    }
   },
   "source": [
    "import tensorflow as tf\n",
    "\n",
    "model.fit(x_train, y_train, validation_split=0.1, epochs=10)"
   ],
   "execution_count": null,
   "outputs": []
  },
  {
   "cell_type": "code",
   "metadata": {
    "id": "FCqcW93L2SCv",
    "colab_type": "code",
    "outputId": "15e21ef4-da8b-4ff6-fa1d-5f870fc2b52e",
    "executionInfo": {
     "status": "ok",
     "timestamp": 1587329450388,
     "user_tz": -180,
     "elapsed": 2419,
     "user": {
      "displayName": "Екатерина Тузина",
      "photoUrl": "",
      "userId": "07782360743022317546"
     }
    },
    "colab": {
     "base_uri": "https://localhost:8080/",
     "height": 51
    }
   },
   "source": [
    "model.evaluate(tX,  tY)"
   ],
   "execution_count": null,
   "outputs": []
  },
  {
   "cell_type": "code",
   "metadata": {
    "id": "BBzBXjfn8zXR",
    "colab_type": "code",
    "colab": {}
   },
   "source": [
    "model = Sequential([\n",
    "    layers.Conv2D(64, kernel_size=3, activation='relu', input_shape=(28,28,1)),\n",
    "    layers.Conv2D(32, kernel_size=5, activation='relu'),\n",
    "    layers.Dropout(0.25),\n",
    "    layers.MaxPooling2D((2, 2)),\n",
    "    layers.Conv2D(64, (3, 3), activation='relu', padding='same'),\n",
    "    layers.Dropout(0.25),\n",
    "    layers.MaxPooling2D((2, 2)),\n",
    "    layers.Conv2D(128, (3, 3), activation='relu', padding='same'),\n",
    "    layers.Dropout(0.25),\n",
    "    layers.MaxPooling2D((2, 2)),\n",
    "    layers.Flatten(),\n",
    "    layers.Dense(500, activation='relu'),\n",
    "    layers.Dropout(0.5),\n",
    "    layers.Dense(25, activation='softmax')\n",
    "])\n",
    "\n",
    "model.compile(optimizer='adam', loss='sparse_categorical_crossentropy', metrics=['accuracy'])"
   ],
   "execution_count": null,
   "outputs": []
  },
  {
   "cell_type": "code",
   "metadata": {
    "id": "JK0T_ZtI5KD3",
    "colab_type": "code",
    "colab": {}
   },
   "source": [
    "from tensorflow.keras.preprocessing.image import ImageDataGenerator\n",
    "\n",
    "\n",
    "datagen = ImageDataGenerator(rotation_range=20, zoom_range=0.15,\n",
    "\twidth_shift_range=0.2, height_shift_range=0.2, shear_range=0.15,\n",
    "\thorizontal_flip=True, fill_mode=\"nearest\")\n",
    "\n",
    "train_generator = datagen.flow(x_train, y_train, batch_size=32)\n",
    "val_generator = datagen.flow(x_val, y_val, batch_size=32)\n",
    "test_generator = datagen.flow(tX, tY, batch_size=32)"
   ],
   "execution_count": null,
   "outputs": []
  },
  {
   "cell_type": "code",
   "metadata": {
    "id": "_N4jTEYK5frI",
    "colab_type": "code",
    "outputId": "a09040e1-f053-4afd-e123-bc7f12c922f1",
    "executionInfo": {
     "status": "ok",
     "timestamp": 1587329899156,
     "user_tz": -180,
     "elapsed": 101944,
     "user": {
      "displayName": "Екатерина Тузина",
      "photoUrl": "",
      "userId": "07782360743022317546"
     }
    },
    "colab": {
     "base_uri": "https://localhost:8080/",
     "height": 374
    }
   },
   "source": [
    "\n",
    "\n",
    "model.fit_generator(\n",
    "  train_generator,\n",
    "  epochs=10,\n",
    "  validation_data=(x_val,y_val), steps_per_epoch=len(x_train) // 32)"
   ],
   "execution_count": null,
   "outputs": []
  },
  {
   "cell_type": "code",
   "metadata": {
    "id": "gp4EjM1E8hAb",
    "colab_type": "code",
    "outputId": "1729907e-2515-4253-9b9e-5b48d63eda53",
    "executionInfo": {
     "status": "ok",
     "timestamp": 1587330134111,
     "user_tz": -180,
     "elapsed": 1322,
     "user": {
      "displayName": "Екатерина Тузина",
      "photoUrl": "",
      "userId": "07782360743022317546"
     }
    },
    "colab": {
     "base_uri": "https://localhost:8080/",
     "height": 51
    }
   },
   "source": [
    "model.evaluate(tX,  tY)"
   ],
   "execution_count": null,
   "outputs": []
  },
  {
   "cell_type": "code",
   "metadata": {
    "id": "2EBqzi-G8e-c",
    "colab_type": "code",
    "outputId": "d8f1904b-6dea-491a-8d36-23703b9ccb6a",
    "executionInfo": {
     "status": "ok",
     "timestamp": 1587330177997,
     "user_tz": -180,
     "elapsed": 6853,
     "user": {
      "displayName": "Екатерина Тузина",
      "photoUrl": "",
      "userId": "07782360743022317546"
     }
    },
    "colab": {
     "base_uri": "https://localhost:8080/",
     "height": 122
    }
   },
   "source": [
    "from keras.applications import MobileNet\n",
    "from keras.layers import GlobalAveragePooling2D, Dense\n",
    "from keras.models import Model\n",
    "\n",
    "base_model=MobileNet(weights='imagenet',include_top=False) \n",
    "\n",
    "x=base_model.output\n",
    "x=GlobalAveragePooling2D()(x)\n",
    "x=Dense(1024,activation='relu')(x) \n",
    "x=Dense(1024,activation='relu')(x) \n",
    "x=Dense(512,activation='relu')(x)\n",
    "preds=Dense(25,activation='softmax')(x) \n",
    "model=Model(inputs=base_model.input,outputs=preds)"
   ],
   "execution_count": null,
   "outputs": []
  },
  {
   "cell_type": "code",
   "metadata": {
    "id": "nngddr4a_rSI",
    "colab_type": "code",
    "outputId": "10c368b5-041d-4289-a0b2-92026071d1f3",
    "executionInfo": {
     "status": "ok",
     "timestamp": 1587330185738,
     "user_tz": -180,
     "elapsed": 864,
     "user": {
      "displayName": "Екатерина Тузина",
      "photoUrl": "",
      "userId": "07782360743022317546"
     }
    },
    "colab": {
     "base_uri": "https://localhost:8080/",
     "height": 34
    }
   },
   "source": [
    "print(len(model.layers))\n",
    "#for layer in model.layers:\n",
    "#    layer.trainable=False\n",
    "\n",
    "# or if we want to set the first 20 layers of the network to be non-trainable\n",
    "for layer in model.layers[:20]:\n",
    "    layer.trainable=False\n",
    "for layer in model.layers[20:]:\n",
    "    layer.trainable=True"
   ],
   "execution_count": null,
   "outputs": []
  },
  {
   "cell_type": "code",
   "metadata": {
    "id": "2nlPhMPE_sre",
    "colab_type": "code",
    "outputId": "f93e5f43-2748-4e2f-bc3e-942d7d8e8722",
    "executionInfo": {
     "status": "ok",
     "timestamp": 1587330190279,
     "user_tz": -180,
     "elapsed": 1325,
     "user": {
      "displayName": "Екатерина Тузина",
      "photoUrl": "",
      "userId": "07782360743022317546"
     }
    },
    "colab": {
     "base_uri": "https://localhost:8080/",
     "height": 34
    }
   },
   "source": [
    "import numpy as np\n",
    "def transform(dataset):\n",
    "  newDataset = list()\n",
    "  for x in dataset:\n",
    "    x = np.repeat(x, 3, 2)\n",
    "    newDataset.append(x)\n",
    "  return np.array(newDataset)\n",
    "\n",
    "newTrainX = transform(x_train)\n",
    "newValX = transform(x_val)\n",
    "\n",
    "print(newTrainX.shape, newValX.shape)"
   ],
   "execution_count": null,
   "outputs": []
  },
  {
   "cell_type": "code",
   "metadata": {
    "id": "okxeT6ikASz9",
    "colab_type": "code",
    "outputId": "0eab6bc3-3278-42c5-8a2b-a2fab607bf79",
    "executionInfo": {
     "status": "ok",
     "timestamp": 1587330467698,
     "user_tz": -180,
     "elapsed": 274650,
     "user": {
      "displayName": "Екатерина Тузина",
      "photoUrl": "",
      "userId": "07782360743022317546"
     }
    },
    "colab": {
     "base_uri": "https://localhost:8080/",
     "height": 391
    }
   },
   "source": [
    "model.compile(optimizer='adam', loss='sparse_categorical_crossentropy', metrics=['accuracy'])\n",
    "\n",
    "model.fit(newTrainX, y_train, validation_data=(newValX, y_val), epochs=10)"
   ],
   "execution_count": null,
   "outputs": []
  }
 ]
}
