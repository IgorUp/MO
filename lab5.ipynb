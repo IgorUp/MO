{
 "nbformat": 4,
 "nbformat_minor": 0,
 "metadata": {
  "colab": {
   "name": "lab5.ipynb",
   "provenance": [
    {
     "file_id": "1Ay-6syXutL1B8FHdpSFslyob3qeN5WQJ",
     "timestamp": 1587330938506
    }
   ],
   "collapsed_sections": []
  },
  "kernelspec": {
   "name": "python3",
   "display_name": "Python 3"
  },
  "accelerator": "GPU"
 },
 "cells": [
  {
   "cell_type": "code",
   "metadata": {
    "id": "sB9jBlAyFh9v",
    "colab_type": "code",
    "outputId": "3741f4f2-3bef-4950-bd08-4085bd46ff9c",
    "executionInfo": {
     "status": "ok",
     "timestamp": 1587331892204,
     "user_tz": -180,
     "elapsed": 34550,
     "user": {
      "displayName": "Екатерина Тузина",
      "photoUrl": "",
      "userId": "07782360743022317546"
     }
    },
    "colab": {
     "base_uri": "https://localhost:8080/",
     "height": 187
    }
   },
   "source": [
    "# Install Kaggle library\n",
    "!pip install -q kaggle\n",
    "\n",
    "import os\n",
    "os.environ['KAGGLE_USERNAME'] = \"katetuzina\" # username from the json file\n",
    "os.environ['KAGGLE_KEY'] = \"7578fa8dde4c34ef17a35fab34c9b088\" # key from the json file\n",
    "#!kaggle datasets download -d iarunava/happy-house-dataset # api copied from kaggle\n",
    "!kaggle competitions download -c dogs-vs-cats"
   ],
   "execution_count": null,
   "outputs": []
  },
  {
   "cell_type": "code",
   "metadata": {
    "id": "KODnWUVm9_xY",
    "colab_type": "code",
    "outputId": "4ace0af2-21ee-40a4-85d8-113efb34d00b",
    "executionInfo": {
     "status": "ok",
     "timestamp": 1587331911496,
     "user_tz": -180,
     "elapsed": 53826,
     "user": {
      "displayName": "Екатерина Тузина",
      "photoUrl": "",
      "userId": "07782360743022317546"
     }
    },
    "colab": {
     "base_uri": "https://localhost:8080/",
     "height": 1000
    }
   },
   "source": [
    "!unzip train.zip\n",
    "!unzip test1.zip"
   ],
   "execution_count": null,
   "outputs": []
  },
  {
   "cell_type": "code",
   "metadata": {
    "id": "436QC3QuGTDo",
    "colab_type": "code",
    "outputId": "e4d11327-ed62-463e-9aae-eb2cf21a08cf",
    "executionInfo": {
     "status": "ok",
     "timestamp": 1587331911499,
     "user_tz": -180,
     "elapsed": 53797,
     "user": {
      "displayName": "Екатерина Тузина",
      "photoUrl": "",
      "userId": "07782360743022317546"
     }
    },
    "colab": {
     "base_uri": "https://localhost:8080/",
     "height": 34
    }
   },
   "source": [
    "import numpy as np # linear algebra\n",
    "import pandas as pd # data processing, CSV file I/O (e.g. pd.read_csv)\n",
    "import cv2\n",
    "\n",
    "import matplotlib.pyplot as plt\n",
    "import tensorflow as tf\n",
    "from tensorflow.keras.models import Sequential\n",
    "from tensorflow.keras.layers import Dense, Flatten, Dropout, Activation, Conv2D, MaxPooling2D, BatchNormalization, GlobalAveragePooling2D\n",
    "import tensorflow_datasets as tfds\n",
    "\n",
    "# Input data files are available in the \"../input/\" directory.\n",
    "# For example, running this (by clicking run or pressing Shift+Enter) will list the files in the input directory\n",
    "\n",
    "import os\n",
    "\n",
    "main_dir = \"\"\n",
    "train_dir = \"train\"\n",
    "path = os.path.join(main_dir,train_dir)\n",
    "print(path)"
   ],
   "execution_count": null,
   "outputs": []
  },
  {
   "cell_type": "code",
   "metadata": {
    "id": "Pb7i6fQKHhgJ",
    "colab_type": "code",
    "outputId": "ed851ad2-ca70-4257-98cc-4462289aa58b",
    "executionInfo": {
     "status": "ok",
     "timestamp": 1587331912317,
     "user_tz": -180,
     "elapsed": 54571,
     "user": {
      "displayName": "Екатерина Тузина",
      "photoUrl": "",
      "userId": "07782360743022317546"
     }
    },
    "colab": {
     "base_uri": "https://localhost:8080/",
     "height": 268
    }
   },
   "source": [
    "for p in os.listdir(path):\n",
    "    category = p.split(\".\")[0]\n",
    "    img_array = cv2.imread(os.path.join(path,p),cv2.IMREAD_GRAYSCALE)\n",
    "    new_img_array = cv2.resize(img_array, dsize=(80, 80))\n",
    "    plt.imshow(new_img_array,cmap=\"gray\")\n",
    "    break"
   ],
   "execution_count": null,
   "outputs": []
  },
  {
   "cell_type": "code",
   "metadata": {
    "id": "tk16RoPaHrrq",
    "colab_type": "code",
    "colab": {}
   },
   "source": [
    "X = []\n",
    "y = []\n",
    "convert = lambda category : int(category == 'dog')\n",
    "def create_test_data(path):\n",
    "    for p in os.listdir(path):\n",
    "        category = p.split(\".\")[0]\n",
    "        category = convert(category)\n",
    "        img_array = cv2.imread(os.path.join(path,p),cv2.IMREAD_GRAYSCALE)\n",
    "        new_img_array = cv2.resize(img_array, dsize=(80, 80))\n",
    "        X.append(new_img_array)\n",
    "        y.append(category)\n",
    "create_test_data(path)\n",
    "X = np.array(X).reshape(-1, 80,80,1)\n",
    "y = np.array(y)\n",
    "\n",
    "#Normalize data\n",
    "X = X/255.0\n",
    "\n",
    "from sklearn.model_selection import train_test_split\n",
    "X, X_test, y, y_test = train_test_split(X, y, test_size=0.1)\n",
    "X, X_val, y, y_val = train_test_split(X, y, test_size=0.1)\n",
    "\n",
    "\n",
    "\n"
   ],
   "execution_count": null,
   "outputs": []
  },
  {
   "cell_type": "code",
   "metadata": {
    "id": "dTmYTjfv0S83",
    "colab_type": "code",
    "colab": {}
   },
   "source": [
    "datagen = tf.keras.preprocessing.image.ImageDataGenerator(\n",
    "    featurewise_center=True,\n",
    "    featurewise_std_normalization=True,\n",
    "    rotation_range=20,\n",
    "    width_shift_range=0.2,\n",
    "    height_shift_range=0.2,\n",
    "    horizontal_flip=True, validation_split=0.1)\n",
    "datagen.fit(X)"
   ],
   "execution_count": null,
   "outputs": []
  },
  {
   "cell_type": "code",
   "metadata": {
    "id": "m2kNh88gINGE",
    "colab_type": "code",
    "colab": {}
   },
   "source": [
    "model = Sequential()\n",
    "model.add(Conv2D(32, (3, 3), activation='relu', input_shape=X.shape[1:]))\n",
    "model.add(MaxPooling2D(pool_size=(2, 2)))\n",
    "model.add(Dropout(0.25))\n",
    "\n",
    "model.add(Conv2D(64, (3, 3), activation='relu'))\n",
    "model.add(MaxPooling2D(pool_size=(2, 2)))\n",
    "model.add(Dropout(0.25))\n",
    "\n",
    "model.add(Conv2D(128, (3, 3), activation='relu'))\n",
    "model.add(MaxPooling2D(pool_size=(2, 2)))\n",
    "model.add(Dropout(0.25))\n",
    "\n",
    "model.add(Flatten())\n",
    "model.add(Dense(512, activation='relu'))\n",
    "model.add(Dropout(0.25))\n",
    "model.add(Dense(2, activation='softmax'))\n",
    "\n",
    "model.compile(optimizer=\"adam\",\n",
    "              loss='sparse_categorical_crossentropy',\n",
    "              metrics=['accuracy'])"
   ],
   "execution_count": null,
   "outputs": []
  },
  {
   "cell_type": "code",
   "metadata": {
    "id": "bIhdqWUZIQ2j",
    "colab_type": "code",
    "outputId": "d641af1e-8ea9-49e1-befc-e153219dcc77",
    "executionInfo": {
     "status": "ok",
     "timestamp": 1587332062993,
     "user_tz": -180,
     "elapsed": 205118,
     "user": {
      "displayName": "Екатерина Тузина",
      "photoUrl": "",
      "userId": "07782360743022317546"
     }
    },
    "colab": {
     "base_uri": "https://localhost:8080/",
     "height": 714
    }
   },
   "source": [
    "model.fit(\n",
    "    X,y, \n",
    "    epochs=100, \n",
    "    batch_size=32, \n",
    "    validation_split=0.1,\n",
    "    callbacks=[\n",
    "      tf.keras.callbacks.EarlyStopping(\n",
    "        patience=10,\n",
    "        restore_best_weights=True\n",
    "      )\n",
    "    ]\n",
    ")\n"
   ],
   "execution_count": null,
   "outputs": []
  },
  {
   "cell_type": "code",
   "metadata": {
    "id": "Fbw3_z2fC6V1",
    "colab_type": "code",
    "outputId": "f0d88d8a-6bcc-403e-c2dd-87501463425b",
    "executionInfo": {
     "status": "ok",
     "timestamp": 1587332062995,
     "user_tz": -180,
     "elapsed": 205085,
     "user": {
      "displayName": "Екатерина Тузина",
      "photoUrl": "",
      "userId": "07782360743022317546"
     }
    },
    "colab": {
     "base_uri": "https://localhost:8080/",
     "height": 51
    }
   },
   "source": [
    "_, acc = model.evaluate(X_test, y_test)\n",
    "print(f'Accuracy = {acc:.5f}')"
   ],
   "execution_count": null,
   "outputs": []
  },
  {
   "cell_type": "code",
   "metadata": {
    "id": "OS9ZdrfjDYbV",
    "colab_type": "code",
    "colab": {}
   },
   "source": [
    "model = Sequential()\n",
    "model.add(Conv2D(32, (3, 3), activation='relu', input_shape=X.shape[1:]))\n",
    "model.add(MaxPooling2D(pool_size=(2, 2)))\n",
    "model.add(Dropout(0.25))\n",
    "\n",
    "model.add(Conv2D(64, (3, 3), activation='relu'))\n",
    "model.add(MaxPooling2D(pool_size=(2, 2)))\n",
    "model.add(Dropout(0.25))\n",
    "\n",
    "model.add(Conv2D(128, (3, 3), activation='relu'))\n",
    "model.add(MaxPooling2D(pool_size=(2, 2)))\n",
    "model.add(Dropout(0.25))\n",
    "\n",
    "model.add(Flatten())\n",
    "model.add(Dense(512, activation='relu'))\n",
    "model.add(Dropout(0.25))\n",
    "model.add(Dense(2, activation='softmax'))\n",
    "\n",
    "model.compile(optimizer=\"adam\",\n",
    "              loss='sparse_categorical_crossentropy',\n",
    "              metrics=['accuracy'])"
   ],
   "execution_count": null,
   "outputs": []
  },
  {
   "cell_type": "code",
   "metadata": {
    "id": "5vJo6Ejd5xlC",
    "colab_type": "code",
    "outputId": "63d152e0-1b39-47d2-89d6-131d558f55f8",
    "executionInfo": {
     "status": "ok",
     "timestamp": 1587332396815,
     "user_tz": -180,
     "elapsed": 538855,
     "user": {
      "displayName": "Екатерина Тузина",
      "photoUrl": "",
      "userId": "07782360743022317546"
     }
    },
    "colab": {
     "base_uri": "https://localhost:8080/",
     "height": 765
    }
   },
   "source": [
    "model.fit_generator(\n",
    "    datagen.flow(X, y, batch_size=32),\n",
    "    steps_per_epoch=len(X) / 32, \n",
    "    epochs=100, \n",
    "    callbacks=[\n",
    "      tf.keras.callbacks.EarlyStopping(\n",
    "        patience=2,\n",
    "        restore_best_weights=True,\n",
    "        monitor='accuracy'\n",
    "      )\n",
    "    ])"
   ],
   "execution_count": null,
   "outputs": []
  },
  {
   "cell_type": "code",
   "metadata": {
    "id": "Txnq4P0RI3uR",
    "colab_type": "code",
    "outputId": "e5f29601-127b-4d6f-efd8-43470f8791d7",
    "executionInfo": {
     "status": "ok",
     "timestamp": 1587332396820,
     "user_tz": -180,
     "elapsed": 538834,
     "user": {
      "displayName": "Екатерина Тузина",
      "photoUrl": "",
      "userId": "07782360743022317546"
     }
    },
    "colab": {
     "base_uri": "https://localhost:8080/",
     "height": 51
    }
   },
   "source": [
    "_, acc = model.evaluate(X_test, y_test)\n",
    "print(f'Accuracy = {acc:.5f}')"
   ],
   "execution_count": null,
   "outputs": []
  },
  {
   "cell_type": "code",
   "metadata": {
    "id": "JG9FcSmhCqLR",
    "colab_type": "code",
    "outputId": "d64a864b-c325-45e4-b436-fcffe4e6517a",
    "executionInfo": {
     "status": "ok",
     "timestamp": 1587332396822,
     "user_tz": -180,
     "elapsed": 538810,
     "user": {
      "displayName": "Екатерина Тузина",
      "photoUrl": "",
      "userId": "07782360743022317546"
     }
    },
    "colab": {
     "base_uri": "https://localhost:8080/",
     "height": 1000
    }
   },
   "source": [
    "from keras.applications import MobileNet\n",
    "from keras.layers import GlobalAveragePooling2D, Dense\n",
    "from keras.models import Model\n",
    "\n",
    "base_model=MobileNet(weights='imagenet',include_top=False) \n",
    "\n",
    "x=base_model.output\n",
    "x=GlobalAveragePooling2D()(x)\n",
    "x=Dense(1024,activation='relu')(x) \n",
    "x=Dense(1024,activation='relu')(x) \n",
    "x=Dense(512,activation='relu')(x)\n",
    "preds=Dense(2,activation='softmax')(x) \n",
    "model=Model(inputs=base_model.input,outputs=preds)\n",
    "model.summary()"
   ],
   "execution_count": null,
   "outputs": []
  },
  {
   "cell_type": "code",
   "metadata": {
    "id": "QdNkaWl2CyHv",
    "colab_type": "code",
    "outputId": "266383a2-5a6d-40a0-8550-38cf0b8f706a",
    "executionInfo": {
     "status": "ok",
     "timestamp": 1587332396825,
     "user_tz": -180,
     "elapsed": 538782,
     "user": {
      "displayName": "Екатерина Тузина",
      "photoUrl": "",
      "userId": "07782360743022317546"
     }
    },
    "colab": {
     "base_uri": "https://localhost:8080/",
     "height": 34
    }
   },
   "source": [
    "import numpy as np\n",
    "def transform(dataset):\n",
    "  newDataset = list()\n",
    "  for x in dataset:\n",
    "    x = np.repeat(x, 3, 2)\n",
    "    newDataset.append(x)\n",
    "  return np.array(newDataset)\n",
    "\n",
    "newTrainX = transform(X)\n",
    "\n",
    "print(newTrainX.shape)"
   ],
   "execution_count": null,
   "outputs": []
  },
  {
   "cell_type": "code",
   "metadata": {
    "id": "6wd3njCvDEG6",
    "colab_type": "code",
    "outputId": "dc80a9cb-ddaa-4d81-ee1f-f17ca3928928",
    "executionInfo": {
     "status": "ok",
     "timestamp": 1587332959451,
     "user_tz": -180,
     "elapsed": 1101380,
     "user": {
      "displayName": "Екатерина Тузина",
      "photoUrl": "",
      "userId": "07782360743022317546"
     }
    },
    "colab": {
     "base_uri": "https://localhost:8080/",
     "height": 595
    }
   },
   "source": [
    "model.compile(optimizer='adam', loss='sparse_categorical_crossentropy', metrics=['accuracy'])\n",
    "\n",
    "model.fit(newTrainX, y, validation_split=0.1, epochs=100, callbacks=[\n",
    "      tf.keras.callbacks.EarlyStopping(\n",
    "        patience=2,\n",
    "        restore_best_weights=True,\n",
    "        monitor='accuracy'\n",
    "      )\n",
    "    ]\n",
    ")"
   ],
   "execution_count": null,
   "outputs": []
  },
  {
   "cell_type": "code",
   "metadata": {
    "id": "Idei6_KsD1BT",
    "colab_type": "code",
    "outputId": "11d900c8-58d0-4551-9afd-35137a68d71f",
    "executionInfo": {
     "status": "ok",
     "timestamp": 1587332961763,
     "user_tz": -180,
     "elapsed": 1103645,
     "user": {
      "displayName": "Екатерина Тузина",
      "photoUrl": "",
      "userId": "07782360743022317546"
     }
    },
    "colab": {
     "base_uri": "https://localhost:8080/",
     "height": 51
    }
   },
   "source": [
    "newTestX = transform(X_test)\n",
    "_, acc = model.evaluate(newTestX, y_test)\n",
    "print(f'Accuracy = {acc:.5f}')"
   ],
   "execution_count": null,
   "outputs": []
  }
 ]
}
