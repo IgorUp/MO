{
 "nbformat": 4,
 "nbformat_minor": 0,
 "metadata": {
  "colab": {
   "name": "lab8.ipynb",
   "provenance": [],
   "collapsed_sections": []
  },
  "kernelspec": {
   "name": "python3",
   "display_name": "Python 3"
  },
  "accelerator": "GPU"
 },
 "cells": [
  {
   "cell_type": "code",
   "metadata": {
    "id": "B8pzs57TsB3o",
    "colab_type": "code",
    "outputId": "b972e5aa-101d-4d3c-9b98-dc3676ad7a24",
    "executionInfo": {
     "status": "ok",
     "timestamp": 1587288245614,
     "user_tz": -180,
     "elapsed": 7323,
     "user": {
      "displayName": "Екатерина Тузина",
      "photoUrl": "",
      "userId": "07782360743022317546"
     }
    },
    "colab": {
     "base_uri": "https://localhost:8080/",
     "height": 34
    }
   },
   "source": [
    "!pip install -q kaggle\n",
    "\n",
    "import os\n",
    "os.environ['KAGGLE_USERNAME'] = \"katetuzina\" # username from the json file\n",
    "os.environ['KAGGLE_KEY'] = \"7578fa8dde4c34ef17a35fab34c9b088\" # key from the json file\n",
    "#!kaggle datasets download -d iarunava/happy-house-dataset # api copied from kaggle\n",
    "!kaggle datasets download -d robervalt/sunspots"
   ],
   "execution_count": null,
   "outputs": []
  },
  {
   "cell_type": "code",
   "metadata": {
    "id": "tbKwZ2jDscc6",
    "colab_type": "code",
    "outputId": "a51daecc-d534-4305-dd16-ebfbeed7807f",
    "executionInfo": {
     "status": "ok",
     "timestamp": 1587288268718,
     "user_tz": -180,
     "elapsed": 30304,
     "user": {
      "displayName": "Екатерина Тузина",
      "photoUrl": "",
      "userId": "07782360743022317546"
     }
    },
    "colab": {
     "base_uri": "https://localhost:8080/",
     "height": 68
    }
   },
   "source": [
    "!unzip sunspots.zip"
   ],
   "execution_count": null,
   "outputs": []
  },
  {
   "cell_type": "code",
   "metadata": {
    "id": "hKdb3e5_lwSI",
    "colab_type": "code",
    "outputId": "f5b41db6-2e62-4e73-d945-3bf1e8079685",
    "executionInfo": {
     "status": "ok",
     "timestamp": 1587288269788,
     "user_tz": -180,
     "elapsed": 31277,
     "user": {
      "displayName": "Екатерина Тузина",
      "photoUrl": "",
      "userId": "07782360743022317546"
     }
    },
    "colab": {
     "base_uri": "https://localhost:8080/",
     "height": 548
    }
   },
   "source": [
    "import pandas\n",
    "from pandas.plotting import autocorrelation_plot\n",
    "import matplotlib.pyplot as plt\n",
    "import numpy\n",
    "import math\n",
    "from keras.models import Sequential\n",
    "from keras.layers import Dense\n",
    "from keras.layers import LSTM\n",
    "from sklearn.preprocessing import MinMaxScaler\n",
    "from sklearn.metrics import mean_squared_error\n",
    "\n",
    "\n",
    "dataframe = pandas.read_csv('Sunspots.csv', usecols=[2], engine='python')\n",
    "plt.plot(dataframe)\n",
    "plt.show()\n",
    "\n",
    "autocorrelation_plot(dataframe)"
   ],
   "execution_count": null,
   "outputs": []
  },
  {
   "cell_type": "code",
   "metadata": {
    "id": "_x5uPKwWmlIe",
    "colab_type": "code",
    "outputId": "2dde756c-c00d-4bbf-e235-4948b449a9ad",
    "executionInfo": {
     "status": "ok",
     "timestamp": 1587292156826,
     "user_tz": -180,
     "elapsed": 872,
     "user": {
      "displayName": "Екатерина Тузина",
      "photoUrl": "",
      "userId": "07782360743022317546"
     }
    },
    "colab": {
     "base_uri": "https://localhost:8080/",
     "height": 34
    }
   },
   "source": [
    "dataset = dataframe.values\n",
    "dataset = dataset.astype('float32')\n",
    "# normalize the dataset\n",
    "scaler = MinMaxScaler(feature_range=(0, 1))\n",
    "dataset = scaler.fit_transform(dataset)\n",
    "\n",
    "# split into train and test sets\n",
    "train_size = int(len(dataset) * 0.7)\n",
    "test_size = len(dataset) - train_size\n",
    "train, test = dataset[0:train_size,:], dataset[train_size:len(dataset),:]\n",
    "print(len(train), len(test))"
   ],
   "execution_count": null,
   "outputs": []
  },
  {
   "cell_type": "code",
   "metadata": {
    "id": "tLnT4uOKlyhX",
    "colab_type": "code",
    "outputId": "0b892ebf-cc35-431f-e62d-478672e7c3cb",
    "executionInfo": {
     "status": "ok",
     "timestamp": 1587288269792,
     "user_tz": -180,
     "elapsed": 31206,
     "user": {
      "displayName": "Екатерина Тузина",
      "photoUrl": "",
      "userId": "07782360743022317546"
     }
    },
    "colab": {
     "base_uri": "https://localhost:8080/",
     "height": 51
    }
   },
   "source": [
    ""
   ],
   "execution_count": null,
   "outputs": []
  },
  {
   "cell_type": "code",
   "metadata": {
    "id": "Du680h166RuK",
    "colab_type": "code",
    "outputId": "6233f706-c0df-46c7-dfbd-a83a4bea8533",
    "executionInfo": {
     "status": "ok",
     "timestamp": 1587292165761,
     "user_tz": -180,
     "elapsed": 980,
     "user": {
      "displayName": "Екатерина Тузина",
      "photoUrl": "",
      "userId": "07782360743022317546"
     }
    },
    "colab": {
     "base_uri": "https://localhost:8080/",
     "height": 51
    }
   },
   "source": [
    "# convert an array of values into a dataset matrix\n",
    "def create_dataset(dataset, look_back=1):\n",
    "\tdataX, dataY = [], []\n",
    "\tfor i in range(len(dataset)-look_back-1):\n",
    "\t\ta = dataset[i:(i+look_back), 0]\n",
    "\t\tdataX.append(a)\n",
    "\t\tdataY.append(dataset[i + look_back, 0])\n",
    "\treturn numpy.array(dataX), numpy.array(dataY)\n",
    " \n",
    " # reshape into X=t and Y=t+1\n",
    "look_back = 1\n",
    "trainX, trainY = create_dataset(train, look_back)\n",
    "testX, testY = create_dataset(test, look_back)\n",
    "# reshape input to be [samples, time steps, features]\n",
    "trainX = numpy.reshape(trainX, (trainX.shape[0], 1, trainX.shape[1]))\n",
    "testX = numpy.reshape(testX, (testX.shape[0], 1, testX.shape[1]))\n",
    "print(testY[:10])"
   ],
   "execution_count": null,
   "outputs": []
  },
  {
   "cell_type": "code",
   "metadata": {
    "id": "n0IC0ABmJttO",
    "colab_type": "code",
    "outputId": "f1a6cdf7-39c6-47c0-ebfa-36a874c4dc9e",
    "executionInfo": {
     "status": "ok",
     "timestamp": 1587288594547,
     "user_tz": -180,
     "elapsed": 355896,
     "user": {
      "displayName": "Екатерина Тузина",
      "photoUrl": "",
      "userId": "07782360743022317546"
     }
    },
    "colab": {
     "base_uri": "https://localhost:8080/",
     "height": 1000
    }
   },
   "source": [
    "from pandas import read_csv\n",
    "from pandas import datetime\n",
    "from matplotlib import pyplot\n",
    "from statsmodels.tsa.arima_model import ARIMA\n",
    "from sklearn.metrics import mean_squared_error\n",
    "\n",
    "X = dataframe.values\n",
    "size = int(len(X) * 0.66)\n",
    "train, test = X[0:size], X[size:len(X)]\n",
    "history = [x for x in train]\n",
    "predictions = list()\n",
    "for t in range(len(test)):\n",
    "\tmodel = ARIMA(history, order=(5,1,0))\n",
    "\tmodel_fit = model.fit(disp=0)\n",
    "\toutput = model_fit.forecast()\n",
    "\tyhat = output[0]\n",
    "\tpredictions.append(yhat)\n",
    "\tobs = test[t]\n",
    "\thistory.append(obs)\n",
    "\tprint('predicted=%f, expected=%f' % (yhat, obs))\n",
    "error = mean_squared_error(test, predictions)\n",
    "print('Test MSE: %.3f' % error)\n",
    "# plot\n",
    "pyplot.plot(test)\n",
    "pyplot.plot(predictions, color='red')\n",
    "pyplot.show()"
   ],
   "execution_count": null,
   "outputs": []
  },
  {
   "cell_type": "code",
   "metadata": {
    "id": "nnGLJBscZKka",
    "colab_type": "code",
    "outputId": "0b5aa27b-7661-4fb7-a104-19fdffdad839",
    "executionInfo": {
     "status": "ok",
     "timestamp": 1587292307620,
     "user_tz": -180,
     "elapsed": 123289,
     "user": {
      "displayName": "Екатерина Тузина",
      "photoUrl": "",
      "userId": "07782360743022317546"
     }
    },
    "colab": {
     "base_uri": "https://localhost:8080/",
     "height": 204
    }
   },
   "source": [
    "# create and fit the LSTM network\n",
    "model = Sequential()\n",
    "model.add(LSTM(4, input_shape=(1, look_back), return_sequences=True))\n",
    "model.add(LSTM(4, input_shape=(1, look_back)))\n",
    "model.add(Dense(1))\n",
    "model.compile(loss='mean_squared_error', optimizer='adam')\n",
    "model.fit(trainX, trainY, epochs=5, batch_size=1, verbose=2)"
   ],
   "execution_count": null,
   "outputs": []
  },
  {
   "cell_type": "code",
   "metadata": {
    "id": "Rl1IiymdZOSd",
    "colab_type": "code",
    "outputId": "180c0efd-4a71-4886-aabb-2bdee37e9016",
    "executionInfo": {
     "status": "ok",
     "timestamp": 1587292362727,
     "user_tz": -180,
     "elapsed": 860,
     "user": {
      "displayName": "Екатерина Тузина",
      "photoUrl": "",
      "userId": "07782360743022317546"
     }
    },
    "colab": {
     "base_uri": "https://localhost:8080/",
     "height": 85
    }
   },
   "source": [
    "# make predictions\n",
    "trainPredict = model.predict(trainX)\n",
    "print(trainPredict.shape)\n",
    "testPredict = model.predict(testX)\n",
    "# invert predictions\n",
    "trainPredict = scaler.inverse_transform(trainPredict)\n",
    "print(trainPredict.shape)\n",
    "trainY = scaler.inverse_transform([trainY])\n",
    "testPredict = scaler.inverse_transform(testPredict)\n",
    "testY = scaler.inverse_transform([testY])\n",
    "# calculate root mean squared error\n",
    "trainScore = math.sqrt(mean_squared_error(trainY[0], trainPredict[:,0]))\n",
    "print('Train Score: %.2f RMSE' % (trainScore))\n",
    "testScore = math.sqrt(mean_squared_error(testY[0], testPredict[:,0]))\n",
    "print('Test Score: %.2f RMSE' % (testScore))"
   ],
   "execution_count": null,
   "outputs": []
  },
  {
   "cell_type": "code",
   "metadata": {
    "id": "rv4Z9joIjDKD",
    "colab_type": "code",
    "outputId": "29d0d810-4d86-4a3d-c693-770e31ab3834",
    "executionInfo": {
     "status": "ok",
     "timestamp": 1587292372705,
     "user_tz": -180,
     "elapsed": 1277,
     "user": {
      "displayName": "Екатерина Тузина",
      "photoUrl": "",
      "userId": "07782360743022317546"
     }
    },
    "colab": {
     "base_uri": "https://localhost:8080/",
     "height": 265
    }
   },
   "source": [
    "# shift train predictions for plotting\n",
    "trainPredictPlot = numpy.empty_like(dataset)\n",
    "trainPredictPlot[:, :] = numpy.nan\n",
    "trainPredictPlot[look_back:len(trainPredict)+look_back, :] = trainPredict\n",
    "# shift test predictions for plotting\n",
    "testPredictPlot = numpy.empty_like(dataset)\n",
    "testPredictPlot[:, :] = numpy.nan\n",
    "testPredictPlot[len(trainPredict)+(look_back*2)+1:len(dataset)-1, :] = testPredict\n",
    "# plot baseline and predictions\n",
    "plt.plot(scaler.inverse_transform(dataset))\n",
    "plt.plot(trainPredictPlot)\n",
    "plt.plot(testPredictPlot)\n",
    "plt.show()"
   ],
   "execution_count": null,
   "outputs": []
  }
 ]
}
