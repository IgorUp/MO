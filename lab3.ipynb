{
 "nbformat": 4,
 "nbformat_minor": 0,
 "metadata": {
  "colab": {
   "name": "kate lab3.ipynb",
   "provenance": [
    {
     "file_id": "15u4Yq-wJTlVl8MtcfSKRyxecZefwr-Zv",
     "timestamp": 1587232470864
    },
    {
     "file_id": "186rLyq6W-MHkjvtuR4qCnzw-7xMgDt8F",
     "timestamp": 1587069204116
    },
    {
     "file_id": "1BYO7iGvfJ5q33WynEY0xpHKxcoiV2pxF",
     "timestamp": 1586893305466
    }
   ],
   "collapsed_sections": []
  },
  "kernelspec": {
   "name": "python3",
   "display_name": "Python 3"
  },
  "accelerator": "GPU"
 },
 "cells": [
  {
   "cell_type": "code",
   "metadata": {
    "id": "HdBYbDpmg_0S",
    "colab_type": "code",
    "outputId": "f2d2e824-e36d-48b1-9568-c1b26fce3ab8",
    "executionInfo": {
     "status": "ok",
     "timestamp": 1587320390162,
     "user_tz": -180,
     "elapsed": 7224,
     "user": {
      "displayName": "Екатерина Тузина",
      "photoUrl": "",
      "userId": "07782360743022317546"
     }
    },
    "colab": {
     "base_uri": "https://localhost:8080/",
     "height": 170
    }
   },
   "source": [
    "import os\n",
    "try:\n",
    "  import wget\n",
    "except: \n",
    "  !pip install wget\n",
    "  import wget\n",
    "import tarfile\n",
    "\n",
    "\n",
    "out_dir = 'data/not_mnist'\n",
    "small_arhive = f'{out_dir}/notMNIST_small.tar.gz'\n",
    "large_arhive = f'{out_dir}/notMNIST_large.tar.gz'\n",
    "large_url = 'https://commondatastorage.googleapis.com/books1000/notMNIST_large.tar.gz'\n",
    "small_url = 'https://commondatastorage.googleapis.com/books1000/notMNIST_small.tar.gz'"
   ],
   "execution_count": null,
   "outputs": []
  },
  {
   "cell_type": "code",
   "metadata": {
    "id": "CBSFpzB8hVbS",
    "colab_type": "code",
    "outputId": "366d7e24-0c15-4dcd-fd27-bcd9c05b73eb",
    "executionInfo": {
     "status": "ok",
     "timestamp": 1587320399533,
     "user_tz": -180,
     "elapsed": 16533,
     "user": {
      "displayName": "Екатерина Тузина",
      "photoUrl": "",
      "userId": "07782360743022317546"
     }
    },
    "colab": {
     "base_uri": "https://localhost:8080/",
     "height": 85
    }
   },
   "source": [
    "if not os.path.exists(out_dir):\n",
    "  os.makedirs(out_dir)\n",
    "\n",
    "if not os.path.exists(small_arhive):\n",
    "  print(f\"Downloading {small_arhive}.\")\n",
    "  wget.download(small_url, small_arhive)\n",
    "  print()\n",
    "else:\n",
    "  print(f\"Skipping {small_arhive} download (already exists)\")\n",
    "\n",
    "if not os.path.exists(large_arhive):\n",
    "  print(f\"Downloading {large_arhive}.\")\n",
    "  wget.download(large_url, large_arhive)\n",
    "  print()\n",
    "else:\n",
    "  print(f\"Skipping {large_arhive} download (already exists)\")"
   ],
   "execution_count": null,
   "outputs": []
  },
  {
   "cell_type": "code",
   "metadata": {
    "id": "RczTDleyhsFO",
    "colab_type": "code",
    "outputId": "43e9e6b1-a134-422d-90a3-439f5a8d9a94",
    "executionInfo": {
     "status": "ok",
     "timestamp": 1587320885558,
     "user_tz": -180,
     "elapsed": 1084,
     "user": {
      "displayName": "Екатерина Тузина",
      "photoUrl": "",
      "userId": "07782360743022317546"
     }
    },
    "colab": {
     "base_uri": "https://localhost:8080/",
     "height": 51
    }
   },
   "source": [
    "print(f\"Extracting {small_arhive}\")\n",
    "with tarfile.open(small_arhive) as tar:\n",
    "  tar.extractall(out_dir)\n",
    "\n",
    "print(f\"Extracting {large_arhive}\")\n",
    "with tarfile.open(large_arhive) as tar:\n",
    "  tar.extractall(out_dir)"
   ],
   "execution_count": null,
   "outputs": []
  },
  {
   "cell_type": "code",
   "metadata": {
    "id": "ybTw8UfjiD-x",
    "colab_type": "code",
    "colab": {}
   },
   "source": [
    "import numpy as np\n",
    "from pathlib import Path\n",
    "from PIL import Image\n",
    "\n",
    "def remove_duplicates(img_train, labels_train, img_test):\n",
    "    img_new, labels_new = [], []\n",
    "    test_set = {e.tostring() for e in img_test}\n",
    "    for i, (x, y) in enumerate(zip(img_train, labels_train)):\n",
    "        if x.tostring() not in test_set:\n",
    "            img_new.append(x)\n",
    "            labels_new.append(y)\n",
    "\n",
    "    print(f'Removed {img_train.shape[0] - len(img_new)} duplicated images')\n",
    "    return np.array(img_new), np.array(labels_new)\n",
    "\n",
    "def load_images(path, n):\n",
    "    labels = ['I', 'G', 'A', 'F', 'H', 'J', 'C', 'D', 'E', 'B']\n",
    "\n",
    "    x, y = [], []\n",
    "    for i, l in enumerate(labels):\n",
    "        d = Path(path) / l\n",
    "        print(f'Loading {str(d)} ', end='')\n",
    "        for j, f in zip(range(n), d.iterdir()):\n",
    "            try:\n",
    "                with Image.open(f) as img:\n",
    "                    x.append(np.array(img))\n",
    "                    y.append(i)\n",
    "            except OSError:\n",
    "                pass\n",
    "            if j % 1000 == 0:\n",
    "                print('.', end='', flush=True)\n",
    "        print(flush=True)\n",
    "    return np.array(labels), np.array(x), np.array(y)\n",
    "\n",
    "def load_not_mnist_data(path='data/not_mnist/', use_cache=True):\n",
    "    train_folder = Path(path) / 'notMNIST_large'\n",
    "    test_folder = Path(path) / 'notMNIST_small'\n",
    "\n",
    "    train_cache_file = Path(path) / 'train.npz'\n",
    "    test_cache_file = Path(path) / 'test.npz'\n",
    "\n",
    "    if train_cache_file.exists() and test_cache_file.exists() and use_cache:\n",
    "        f = np.load(train_cache_file)\n",
    "        labels, img_train, labels_train = [v for k, v in f.items()]\n",
    "        f = np.load(test_cache_file)\n",
    "        labels, img_test, labels_test = [v for k, v in f.items()]\n",
    "        print('Loaded cached arrays')\n",
    "\n",
    "    else:\n",
    "        labels, img_train, labels_train = load_images(train_folder, 10000000)\n",
    "        labels, img_test, labels_test = load_images(test_folder, 10000000)\n",
    "        np.savez(train_cache_file, labels, img_train, labels_train)\n",
    "        np.savez(test_cache_file, labels, img_test, labels_test)\n",
    "\n",
    "    return labels, img_train, labels_train, img_test, labels_test"
   ],
   "execution_count": null,
   "outputs": []
  },
  {
   "cell_type": "code",
   "metadata": {
    "id": "AQB3zsbRiqxr",
    "colab_type": "code",
    "outputId": "26b9ccba-9b3b-4f03-e901-f3723fdd0d0e",
    "executionInfo": {
     "status": "ok",
     "timestamp": 1587320885561,
     "user_tz": -180,
     "elapsed": 989,
     "user": {
      "displayName": "Екатерина Тузина",
      "photoUrl": "",
      "userId": "07782360743022317546"
     }
    },
    "colab": {
     "base_uri": "https://localhost:8080/",
     "height": 1000
    }
   },
   "source": [
    "load_not_mnist_data()"
   ],
   "execution_count": null,
   "outputs": []
  },
  {
   "cell_type": "code",
   "metadata": {
    "id": "76do6zy0qvHI",
    "colab_type": "code",
    "outputId": "37571c3b-40fe-4fb0-bccf-0a6a10722c19",
    "executionInfo": {
     "status": "ok",
     "timestamp": 1587320885562,
     "user_tz": -180,
     "elapsed": 854,
     "user": {
      "displayName": "Екатерина Тузина",
      "photoUrl": "",
      "userId": "07782360743022317546"
     }
    },
    "colab": {
     "base_uri": "https://localhost:8080/",
     "height": 34
    }
   },
   "source": [
    "labels, img_train, labels_train, img_test, labels_test = load_not_mnist_data()"
   ],
   "execution_count": null,
   "outputs": []
  },
  {
   "cell_type": "code",
   "metadata": {
    "id": "8St8voGAs89t",
    "colab_type": "code",
    "outputId": "b83a304c-3f43-41e6-8af2-f0d64e352525",
    "executionInfo": {
     "status": "ok",
     "timestamp": 1587320885563,
     "user_tz": -180,
     "elapsed": 811,
     "user": {
      "displayName": "Екатерина Тузина",
      "photoUrl": "",
      "userId": "07782360743022317546"
     }
    },
    "colab": {
     "base_uri": "https://localhost:8080/",
     "height": 34
    }
   },
   "source": [
    "img_train, labels_train = remove_duplicates(img_train, labels_train, img_test)"
   ],
   "execution_count": null,
   "outputs": []
  },
  {
   "cell_type": "code",
   "metadata": {
    "id": "Uy0FDL1Ou1We",
    "colab_type": "code",
    "colab": {}
   },
   "source": [
    "from sklearn.linear_model import SGDClassifier, LogisticRegression\n",
    "from sklearn.model_selection import train_test_split\n",
    "\n",
    "def flatten(a):\n",
    "    return a.reshape(a.shape[0], a.shape[1] * a.shape[2])\n",
    "\n",
    "def load_data():\n",
    "    labels, img_train, labels_train, img_test, labels_test = load_not_mnist_data()\n",
    "    img_train, labels_train = remove_duplicates(img_train, labels_train, img_test)\n",
    "    return labels, flatten(img_train), labels_train, flatten(img_test), labels_test"
   ],
   "execution_count": null,
   "outputs": []
  },
  {
   "cell_type": "code",
   "metadata": {
    "id": "9udnwtbhvNur",
    "colab_type": "code",
    "outputId": "a1b2c1df-730e-4db6-cd8b-7633ef484288",
    "executionInfo": {
     "status": "ok",
     "timestamp": 1587320885567,
     "user_tz": -180,
     "elapsed": 739,
     "user": {
      "displayName": "Екатерина Тузина",
      "photoUrl": "",
      "userId": "07782360743022317546"
     }
    },
    "colab": {
     "base_uri": "https://localhost:8080/",
     "height": 51
    }
   },
   "source": [
    "\n",
    "labels, img_train, labels_train, img_test, labels_test = load_not_mnist_data()\n",
    "img_train, labels_train = remove_duplicates(img_train, labels_train, img_test)\n",
    "img_train = np.reshape(img_train, img_train.shape + (1,))\n",
    "img_test =  np.reshape(img_test, img_test.shape + (1,))   "
   ],
   "execution_count": null,
   "outputs": []
  },
  {
   "cell_type": "code",
   "metadata": {
    "id": "ImCvs2ZowQ99",
    "colab_type": "code",
    "outputId": "c7d0fc53-9b81-4197-f85f-7844f8b3a347",
    "executionInfo": {
     "status": "ok",
     "timestamp": 1587321812453,
     "user_tz": -180,
     "elapsed": 24004,
     "user": {
      "displayName": "Екатерина Тузина",
      "photoUrl": "",
      "userId": "07782360743022317546"
     }
    },
    "colab": {
     "base_uri": "https://localhost:8080/",
     "height": 425
    }
   },
   "source": [
    "import tensorflow as tf\n",
    "from tensorflow.keras import datasets, layers, models, Sequential\n",
    "from keras.callbacks import EarlyStopping\n",
    "\n",
    "results = {}\n",
    "results.setdefault('val_acc', {})\n",
    "\n",
    "model = Sequential([\n",
    "            layers.Conv2D(16, 5, activation='relu', input_shape=(28, 28, 1)),\n",
    "            layers.Conv2D(16, 5, activation='relu'),\n",
    "            layers.Flatten(),\n",
    "            layers.Dense(100, activation='relu'),\n",
    "            layers.Dense(10, activation='softmax')\n",
    "        ])\n",
    "\n",
    "model.compile(optimizer='adam',\n",
    "              loss='sparse_categorical_crossentropy',\n",
    "              metrics=['accuracy'])\n",
    "\n",
    "callback = tf.keras.callbacks.EarlyStopping(monitor='accuracy', patience=3)\n",
    "model.fit(x=img_train, y=labels_train, epochs=10,\n",
    "          validation_split=0.1)\n",
    "\n",
    "print('\\n# Evaluate')\n",
    "result = model.evaluate(img_test, labels_test)\n",
    "print(result)\n"
   ],
   "execution_count": null,
   "outputs": []
  },
  {
   "cell_type": "code",
   "metadata": {
    "id": "KEs4ePSxldPr",
    "colab_type": "code",
    "outputId": "4881b1e0-5f23-4e23-9ed6-7b46a41c7e33",
    "executionInfo": {
     "status": "ok",
     "timestamp": 1587321812465,
     "user_tz": -180,
     "elapsed": 23202,
     "user": {
      "displayName": "Екатерина Тузина",
      "photoUrl": "",
      "userId": "07782360743022317546"
     }
    },
    "colab": {
     "base_uri": "https://localhost:8080/",
     "height": 34
    }
   },
   "source": [
    "print(result)"
   ],
   "execution_count": null,
   "outputs": []
  },
  {
   "cell_type": "code",
   "metadata": {
    "id": "TdR43VAhs7TT",
    "colab_type": "code",
    "colab": {
     "base_uri": "https://localhost:8080/",
     "height": 425
    },
    "outputId": "6a6085ad-9640-497b-8925-bc44ed5623f1",
    "executionInfo": {
     "status": "ok",
     "timestamp": 1587322463872,
     "user_tz": -180,
     "elapsed": 591170,
     "user": {
      "displayName": "Екатерина Тузина",
      "photoUrl": "",
      "userId": "07782360743022317546"
     }
    }
   },
   "source": [
    "model2 = Sequential([\n",
    "            layers.Conv2D(16, 5, activation='relu', input_shape=(28,28,1), padding='same'),\n",
    "            layers.MaxPool2D(pool_size=(2, 2), padding='same'),\n",
    "            layers.Flatten(),\n",
    "            layers.Dense(100, activation='relu'),\n",
    "            layers.Dense(10, activation='softmax')\n",
    "        ])\n",
    "\n",
    "model2.compile(optimizer='adam',\n",
    "              loss='sparse_categorical_crossentropy',\n",
    "              metrics=['accuracy'])\n",
    "\n",
    "callback = tf.keras.callbacks.EarlyStopping(monitor='accuracy', patience=3)\n",
    "model2.fit(x=img_train, y=labels_train, epochs=10,\n",
    "          validation_split=0.1)\n",
    "\n",
    "print('\\n# Evaluate')\n",
    "result2 = model2.evaluate(img_test, labels_test)\n",
    "print(result2)"
   ],
   "execution_count": null,
   "outputs": []
  },
  {
   "cell_type": "code",
   "metadata": {
    "id": "cAnKuvVUtFlg",
    "colab_type": "code",
    "colab": {
     "base_uri": "https://localhost:8080/",
     "height": 425
    },
    "outputId": "e40c9fd5-60e7-41d2-d833-177eccc49910",
    "executionInfo": {
     "status": "ok",
     "timestamp": 1587323123519,
     "user_tz": -180,
     "elapsed": 636121,
     "user": {
      "displayName": "Екатерина Тузина",
      "photoUrl": "",
      "userId": "07782360743022317546"
     }
    }
   },
   "source": [
    "model3 = Sequential([\n",
    "            layers.Conv2D(6, 5, activation='tanh', input_shape=(28,28,1)),\n",
    "            layers.AvgPool2D(pool_size=(2, 2), strides=(2, 2)),\n",
    "            layers.Conv2D(16, 5, activation='tanh'),\n",
    "            layers.AvgPool2D(pool_size=(2, 2), strides=(2, 2)),\n",
    "            layers.Conv2D(120, 4, activation='tanh'),\n",
    "            layers.Flatten(),\n",
    "            layers.Dense(84, activation='tanh'),\n",
    "            layers.Dense(10, activation='softmax')\n",
    "        ])\n",
    "\n",
    "model3.compile(optimizer='adam',\n",
    "              loss='sparse_categorical_crossentropy',\n",
    "              metrics=['accuracy'])\n",
    "\n",
    "model3.fit(x=img_train, y=labels_train, epochs=10,\n",
    "          validation_split=0.1)\n",
    "\n",
    "print('\\n# Evaluate')\n",
    "result3 = model3.evaluate(img_test, labels_test)\n",
    "print(result3)"
   ],
   "execution_count": null,
   "outputs": []
  }
 ]
}
