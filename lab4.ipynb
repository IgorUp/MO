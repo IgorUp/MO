{
 "nbformat": 4,
 "nbformat_minor": 0,
 "metadata": {
  "colab": {
   "name": "kate lab4(2).ipynb",
   "provenance": [
    {
     "file_id": "1AFOefVHsY2QSLvnbfEq9t5PzusNDgwUy",
     "timestamp": 1587324359985
    },
    {
     "file_id": "1-fW-ia8B6vBptoyS7oRIXYbph3DwQJWr",
     "timestamp": 1587213396941
    }
   ],
   "machine_shape": "hm"
  },
  "kernelspec": {
   "name": "python3",
   "display_name": "Python 3"
  },
  "accelerator": "GPU"
 },
 "cells": [
  {
   "cell_type": "code",
   "metadata": {
    "id": "Ck7DMrBm0WIP",
    "colab_type": "code",
    "colab": {
     "base_uri": "https://localhost:8080/",
     "height": 170
    },
    "outputId": "03fee5ce-a13e-4ef0-ced8-5b9e03fec484",
    "executionInfo": {
     "status": "ok",
     "timestamp": 1587330838205,
     "user_tz": -180,
     "elapsed": 7694,
     "user": {
      "displayName": "Екатерина Тузина",
      "photoUrl": "",
      "userId": "07782360743022317546"
     }
    }
   },
   "source": [
    "import os\n",
    "try:\n",
    "  import wget\n",
    "except:\n",
    "  !pip install wget\n",
    "  import wget\n",
    "import tarfile\n",
    "\n",
    "\n",
    "out_dir = 'data/svhn'\n",
    "\n",
    "train_32_32 = ('http://ufldl.stanford.edu/housenumbers/train_32x32.mat', 'train_32x32.mat')\n",
    "test_32_32 = ('http://ufldl.stanford.edu/housenumbers/test_32x32.mat', 'test_32x32.mat')\n",
    "extra_32_32 = ('http://ufldl.stanford.edu/housenumbers/extra_32x32.mat', 'extra_32x32.mat')\n",
    "\n",
    "train_large = ('http://ufldl.stanford.edu/housenumbers/train.tar.gz', 'train.tar.gz')\n",
    "test_large = ('http://ufldl.stanford.edu/housenumbers/test.tar.gz', 'test.tar.gz')\n",
    "extra_large = ('http://ufldl.stanford.edu/housenumbers/extra.tar.gz', 'extra.tar.gz')"
   ],
   "execution_count": null,
   "outputs": []
  },
  {
   "cell_type": "code",
   "metadata": {
    "id": "LnBBPi3aTdCt",
    "colab_type": "code",
    "outputId": "ec9a8546-d963-4b8e-e183-62f209dd204a",
    "executionInfo": {
     "status": "ok",
     "timestamp": 1587330846972,
     "user_tz": -180,
     "elapsed": 16415,
     "user": {
      "displayName": "Екатерина Тузина",
      "photoUrl": "",
      "userId": "07782360743022317546"
     }
    },
    "colab": {
     "base_uri": "https://localhost:8080/",
     "height": 34
    }
   },
   "source": [
    "import tensorflow as tf\n",
    "tf.test.gpu_device_name()"
   ],
   "execution_count": null,
   "outputs": []
  },
  {
   "cell_type": "code",
   "metadata": {
    "id": "ATuT7NPe1Cil",
    "colab_type": "code",
    "outputId": "e8a32c91-a0d6-4acf-d2e3-35ac4d37e0c2",
    "executionInfo": {
     "status": "ok",
     "timestamp": 1587331187472,
     "user_tz": -180,
     "elapsed": 356871,
     "user": {
      "displayName": "Екатерина Тузина",
      "photoUrl": "",
      "userId": "07782360743022317546"
     }
    },
    "colab": {
     "base_uri": "https://localhost:8080/",
     "height": 272
    }
   },
   "source": [
    "def download_data(url, filename, out_dir=out_dir):\n",
    "    filename = os.path.join(out_dir, filename)\n",
    "\n",
    "    if not os.path.exists(out_dir):\n",
    "        os.makedirs(out_dir)\n",
    "\n",
    "    if not os.path.exists(filename):\n",
    "        print(f\"Downloading {filename}.\")\n",
    "        wget.download(url, filename)\n",
    "        print()\n",
    "    else:\n",
    "        print(f\"Skipping {filename} download (already exists)\")\n",
    "\n",
    "\n",
    "def extract_data(filename, out_dir=out_dir):\n",
    "    filename = os.path.join(out_dir, filename)\n",
    "\n",
    "    print(f\"Extracting {filename}\")\n",
    "    with tarfile.open(filename) as tar:\n",
    "        tar.extractall(out_dir)\n",
    "\n",
    "download_data(*train_32_32)\n",
    "download_data(*test_32_32)\n",
    "download_data(*extra_32_32)\n",
    "\n",
    "download_data(*train_large)\n",
    "download_data(*test_large)\n",
    "download_data(*extra_large)\n",
    "\n",
    "extract_data(train_large[1])\n",
    "extract_data(test_large[1])\n",
    "extract_data(extra_large[1])\n"
   ],
   "execution_count": null,
   "outputs": []
  },
  {
   "cell_type": "code",
   "metadata": {
    "id": "7FMwSc2w3z4S",
    "colab_type": "code",
    "colab": {}
   },
   "source": [
    "# -*- coding: utf-8 -*-\n",
    "from tensorflow import keras\n",
    "import numpy as np\n",
    "from PIL import Image\n",
    "from pathlib import Path\n",
    "from scipy import io\n",
    "import h5py\n",
    "import json\n",
    "\n",
    "def to_one_hot(a, n):\n",
    "    result = np.zeros(shape=(a.shape[0], n))\n",
    "    result[np.arange(len(a)), a] = 1\n",
    "    return result\n",
    "\n",
    "def load_multiple_digits_data(dir='data/svhn', train=True, extra=False):\n",
    "\n",
    "    def parse_digit_struct(file):\n",
    "        print('file - ' + str(file))\n",
    "        if Path(f\"{file}.cache.json\").exists() and os.stat(f\"{file}.cache.json\").st_size != 0:\n",
    "            print('exist')\n",
    "            with open(f\"{file}.cache.json\", \"r\") as f:\n",
    "                images = json.load(f)\n",
    "                print(f'Loaded cached image attrs from {file}.cache.json')\n",
    "                return images\n",
    "\n",
    "        f = h5py.File(file, 'r')\n",
    "        print(f'Opened file {file}')\n",
    "\n",
    "        names = f['digitStruct']['name']\n",
    "        bbox = f['digitStruct']['bbox']\n",
    "\n",
    "        def extract_name(i):\n",
    "            return ''.join([chr(c[0]) for c in f[names[i][0]].value])\n",
    "\n",
    "        def extract_attr(i, attr):\n",
    "            attr = f[bbox[i].item()][attr]\n",
    "            if len(attr) > 1:\n",
    "                return [f[attr.value[j].item()].value[0][0] for j in range(len(attr))]\n",
    "            else:\n",
    "                return [attr.value[0][0]]\n",
    "\n",
    "        images = {}\n",
    "        print(f'Extracting image attrs from {file}: ', end='')\n",
    "        for i in range(len(names)):\n",
    "            name = extract_name(i)\n",
    "            images[name] = {\n",
    "                \"label\": extract_attr(i, 'label'),\n",
    "                \"top\": extract_attr(i, 'top'),\n",
    "                \"left\": extract_attr(i, 'left'),\n",
    "                \"height\": extract_attr(i, 'height'),\n",
    "                \"width\": extract_attr(i, 'width')\n",
    "            }\n",
    "            if i % 1000 == 0:\n",
    "                print('.', end='', flush=True)\n",
    "        print()\n",
    "\n",
    "        with open(f\"{file}.cache.json\", 'w+') as f:\n",
    "            json.dump(images, f)\n",
    "        return images\n",
    "\n",
    "    def process_images(dir):\n",
    "        cache_file = Path(dir) / 'cache.npz'\n",
    "        if cache_file.exists():\n",
    "            f = np.load(cache_file)\n",
    "            print(f'Loaded cached arrays for {dir}')\n",
    "            return [v for k, v in f.items()]\n",
    "\n",
    "        attrs = parse_digit_struct(Path(dir) / 'digitStruct.mat')\n",
    "\n",
    "        x, y = [], []\n",
    "        print(f'Processing images from {dir}: ', end='', flush=True)\n",
    "        for i, name in enumerate(os.listdir(dir)):\n",
    "            if name not in attrs:\n",
    "                print('s', end='', flush=True)\n",
    "                continue\n",
    "\n",
    "            img = Image.open(Path(dir) / name)\n",
    "\n",
    "            height = int(max(attrs[name]['height']))\n",
    "            width = int(max(attrs[name]['width']))\n",
    "            left = max(int(min(attrs[name]['left'])) - 0.5 * width, 0)\n",
    "            top = max(int(min(attrs[name]['top'])) - 0.5 * height, 0)\n",
    "            right = min(int(max(attrs[name]['left'])) + 1.5 * width, img.size[0])\n",
    "            bottom = min(int(max(attrs[name]['top'])) + 1.5 * height, img.size[1])\n",
    "\n",
    "            img = img.crop(box=(left, top, right, bottom))\n",
    "            img = img.resize((96, 96))\n",
    "\n",
    "            label = [d % 10 for d in attrs[name]['label']]\n",
    "            if len(label) > 6:\n",
    "                print('e', end='', flush=True)\n",
    "                continue\n",
    "\n",
    "            label += [10] * (6 - len(label))\n",
    "            label = to_one_hot(np.array(label, dtype=np.int), 11)\n",
    "\n",
    "            x.append(np.array(img))\n",
    "            y.append(np.array(label))\n",
    "\n",
    "            if i % 1000 == 0:\n",
    "                print('.', end='', flush=True)\n",
    "        print()\n",
    "\n",
    "        x = np.array(x, dtype=np.uint8)\n",
    "        y = np.array(y, dtype=np.uint8)\n",
    "        np.savez(Path(dir) / \"cache.npz\", x, y)\n",
    "        return x, y\n",
    "\n",
    "    x_test, y_test = process_images(Path(dir) / 'test/')\n",
    "\n",
    "    x_train, y_train = None, None\n",
    "    if train:\n",
    "        x_train, y_train = process_images(Path(dir) / 'train/')\n",
    "\n",
    "    x_extra, y_extra = None, None\n",
    "    if extra:\n",
    "        x_extra, y_extra = process_images(Path(dir) / 'extra/')\n",
    "\n",
    "    return (\n",
    "        x_train, y_train,\n",
    "        x_test, y_test,\n",
    "        x_extra, y_extra\n",
    "    )\n",
    "\n",
    "    x_test, y_test = process_images(Path(dir) / 'test/')\n",
    "\n",
    "    x_train, y_train = None, None\n",
    "    if train:\n",
    "        x_train, y_train = process_images(Path(dir) / 'train/')\n",
    "\n",
    "    x_extra, y_extra = None, None\n",
    "    if extra:\n",
    "        x_extra, y_extra = process_images(Path(dir) / 'extra/')\n",
    "\n",
    "    return (\n",
    "        x_train, y_train,\n",
    "        x_test, y_test,\n",
    "        x_extra, y_extra\n",
    "    )\n",
    "\n",
    "\n"
   ],
   "execution_count": null,
   "outputs": []
  },
  {
   "cell_type": "code",
   "metadata": {
    "id": "F4mcTuvqV1S_",
    "colab_type": "code",
    "outputId": "27f8e4d3-289d-4717-9645-040794d5daf7",
    "executionInfo": {
     "status": "ok",
     "timestamp": 1587331460325,
     "user_tz": -180,
     "elapsed": 629610,
     "user": {
      "displayName": "Екатерина Тузина",
      "photoUrl": "",
      "userId": "07782360743022317546"
     }
    },
    "colab": {
     "base_uri": "https://localhost:8080/",
     "height": 204
    }
   },
   "source": [
    "x_train, y_train, x_test, y_test, _, _ = load_multiple_digits_data()\n",
    "from sklearn.model_selection import train_test_split\n",
    "x_train, x_val, y_train, y_val = train_test_split(x_train, y_train, test_size=0.1)\n",
    "\n",
    "def to_y(a, n):\n",
    "    return [a[:,i,:] for i in range(n)]\n",
    "\n",
    "if y_train is not None and y_val is not None and y_test is not None:\n",
    "            y_train = to_y(y_train, 6)\n",
    "            y_val = to_y(y_val, 6)\n",
    "            y_test = to_y(y_test, 6)\n"
   ],
   "execution_count": null,
   "outputs": []
  },
  {
   "cell_type": "code",
   "metadata": {
    "id": "fGM21HOafq8T",
    "colab_type": "code",
    "outputId": "2d68e65d-b4d5-42f9-9ac9-2e81feaa0ac7",
    "executionInfo": {
     "status": "ok",
     "timestamp": 1587331460327,
     "user_tz": -180,
     "elapsed": 629560,
     "user": {
      "displayName": "Екатерина Тузина",
      "photoUrl": "",
      "userId": "07782360743022317546"
     }
    },
    "colab": {
     "base_uri": "https://localhost:8080/",
     "height": 34
    }
   },
   "source": [
    "y_train[1].shape"
   ],
   "execution_count": null,
   "outputs": []
  },
  {
   "cell_type": "code",
   "metadata": {
    "id": "xGV_Zt0Z42xE",
    "colab_type": "code",
    "outputId": "5a2bac28-4a19-4171-a770-c4a94170a350",
    "executionInfo": {
     "status": "ok",
     "timestamp": 1587331460677,
     "user_tz": -180,
     "elapsed": 629860,
     "user": {
      "displayName": "Екатерина Тузина",
      "photoUrl": "",
      "userId": "07782360743022317546"
     }
    },
    "colab": {
     "base_uri": "https://localhost:8080/",
     "height": 731
    }
   },
   "source": [
    "import tensorflow as tf\n",
    "\n",
    "from tensorflow import keras\n",
    "\n",
    "input = keras.layers.Input(shape=(96, 96, 3))\n",
    "\n",
    "x = keras.layers.Conv2D(16, 5, activation='relu', padding='same')(input)\n",
    "x = keras.layers.MaxPool2D(pool_size=(2, 2), padding = 'same')(x)\n",
    "x = keras.layers.Conv2D(32, 5, activation='relu', padding='same')(x)\n",
    "x = keras.layers.MaxPool2D(pool_size=(2, 2), padding='same')(x)\n",
    "x = keras.layers.Conv2D(64, 5, activation='relu', padding='same')(x)\n",
    "x = keras.layers.MaxPool2D(pool_size=(2, 2), padding='same')(x)\n",
    "x = keras.layers.Flatten()(x)\n",
    "x = keras.layers.Dropout(rate=0.1)(x)\n",
    "x = keras.layers.Dense(100, activation='relu')(x)\n",
    "x = keras.layers.Dropout(rate=0.1)(x)\n",
    "\n",
    "out1 = keras.layers.Dense(11,  activation='linear')(x)\n",
    "out2 = keras.layers.Dense(11,  activation='linear')(x)\n",
    "out3 = keras.layers.Dense(11,  activation='linear')(x)\n",
    "out4 = keras.layers.Dense(11,  activation='linear')(x)\n",
    "out5 = keras.layers.Dense(11,  activation='linear')(x)\n",
    "out6 = keras.layers.Dense(11,  activation='linear')(x)\n",
    "\n",
    "model = keras.models.Model(\n",
    "   inputs=[input],\n",
    "   outputs=[out1,out2,out3,out4,out5,out6]\n",
    ")\n",
    "model.compile(\n",
    "   optimizer=keras.optimizers.Adam(lr=0.001),\n",
    "   loss='categorical_crossentropy',\n",
    "   metrics=['categorical_accuracy']#,\n",
    "   #loss_weights=[1, 1, 0.5, 0.3, 0.1, 0.05]\n",
    ")\n",
    "model.summary()"
   ],
   "execution_count": null,
   "outputs": []
  },
  {
   "cell_type": "code",
   "metadata": {
    "id": "RbT3uIqx5PnZ",
    "colab_type": "code",
    "outputId": "7f30f210-f931-4f68-9963-b8c71f531b93",
    "executionInfo": {
     "status": "ok",
     "timestamp": 1587331666381,
     "user_tz": -180,
     "elapsed": 835506,
     "user": {
      "displayName": "Екатерина Тузина",
      "photoUrl": "",
      "userId": "07782360743022317546"
     }
    },
    "colab": {
     "base_uri": "https://localhost:8080/",
     "height": 836
    }
   },
   "source": [
    "model.fit(\n",
    "                x_train,\n",
    "                y_train,\n",
    "                epochs=100,\n",
    "                batch_size=32,\n",
    "                verbose=2,\n",
    "                validation_split=0.1,\n",
    "                callbacks=[\n",
    "                    keras.callbacks.EarlyStopping(\n",
    "                        patience=10,\n",
    "                        restore_best_weights=True\n",
    "                    )\n",
    "                ]\n",
    "            )"
   ],
   "execution_count": null,
   "outputs": []
  },
  {
   "cell_type": "code",
   "metadata": {
    "id": "AeId7y3M-Z8J",
    "colab_type": "code",
    "outputId": "06f6cf60-9490-4b3a-f5eb-3e6172fa6c75",
    "executionInfo": {
     "status": "ok",
     "timestamp": 1587331666383,
     "user_tz": -180,
     "elapsed": 835454,
     "user": {
      "displayName": "Екатерина Тузина",
      "photoUrl": "",
      "userId": "07782360743022317546"
     }
    },
    "colab": {
     "base_uri": "https://localhost:8080/",
     "height": 136
    }
   },
   "source": [
    "y_pred = model.predict(x_test)\n",
    "\n",
    "total = np.array([True] * len(x_test))\n",
    "for i, (y1, y2) in enumerate(zip(y_test, y_pred)):\n",
    "  cur = np.argmax(y1, axis=1) == np.argmax(y2, axis=1)\n",
    "  total = np.logical_and(total, cur)\n",
    "\n",
    "  acc = np.mean(cur.astype(np.int))\n",
    "  #history[f'test_out_{i}_acc'] = acc\n",
    "  print(f'Accuracy of out_{i} = {acc:.5f}')\n",
    "\n",
    "acc = np.mean(total.astype(np.int))\n",
    "#history['test_acc'] = acc\n",
    "print(f'Accuracy = {acc:.5f}')"
   ],
   "execution_count": null,
   "outputs": []
  },
  {
   "cell_type": "code",
   "metadata": {
    "id": "ZjnQkiBhp6eV",
    "colab_type": "code",
    "outputId": "003ae8f6-03de-4a62-b0d3-ad45a597e92f",
    "executionInfo": {
     "status": "ok",
     "timestamp": 1587331669311,
     "user_tz": -180,
     "elapsed": 838345,
     "user": {
      "displayName": "Екатерина Тузина",
      "photoUrl": "",
      "userId": "07782360743022317546"
     }
    },
    "colab": {
     "base_uri": "https://localhost:8080/",
     "height": 51
    }
   },
   "source": [
    "!ls data/svhn/"
   ],
   "execution_count": null,
   "outputs": []
  },
  {
   "cell_type": "code",
   "metadata": {
    "id": "RhYlAmXj-pks",
    "colab_type": "code",
    "outputId": "1ca8ed19-3f7c-4f0f-dd74-da000774ada0",
    "executionInfo": {
     "status": "ok",
     "timestamp": 1587333078882,
     "user_tz": -180,
     "elapsed": 2247887,
     "user": {
      "displayName": "Екатерина Тузина",
      "photoUrl": "",
      "userId": "07782360743022317546"
     }
    },
    "colab": {
     "base_uri": "https://localhost:8080/",
     "height": 173
    }
   },
   "source": [
    "_, _, x_test, y_test, x_train, y_train = load_multiple_digits_data(extra=True, train=False)\n",
    "x_train, x_val, y_train, y_val = train_test_split(x_train, y_train, test_size=0.1)\n",
    "if y_train is not None and y_val is not None and y_test is not None:\n",
    "            y_train = to_y(y_train, 6)\n",
    "            y_val = to_y(y_val, 6)\n",
    "            y_test = to_y(y_test, 6)"
   ],
   "execution_count": null,
   "outputs": []
  },
  {
   "cell_type": "code",
   "metadata": {
    "id": "9vbJcDqgrQXd",
    "colab_type": "code",
    "outputId": "a3acad1a-7719-4891-ea42-18376ace903f",
    "executionInfo": {
     "status": "ok",
     "timestamp": 1587333695125,
     "user_tz": -180,
     "elapsed": 2864103,
     "user": {
      "displayName": "Екатерина Тузина",
      "photoUrl": "",
      "userId": "07782360743022317546"
     }
    },
    "colab": {
     "base_uri": "https://localhost:8080/",
     "height": 462
    }
   },
   "source": [
    "model.fit(\n",
    "                x_train,\n",
    "                y_train,\n",
    "                epochs=100,\n",
    "                batch_size=32,\n",
    "                verbose=2,\n",
    "                validation_split=0.1,\n",
    "                callbacks=[\n",
    "                    keras.callbacks.EarlyStopping(\n",
    "                        patience=10,\n",
    "                        restore_best_weights=True\n",
    "                    )\n",
    "                ]\n",
    "            )"
   ],
   "execution_count": null,
   "outputs": []
  },
  {
   "cell_type": "code",
   "metadata": {
    "id": "tia7jPmhrVw9",
    "colab_type": "code",
    "outputId": "d7ba05aa-f4a2-489d-ea0d-b8ae13039b19",
    "executionInfo": {
     "status": "ok",
     "timestamp": 1587333695647,
     "user_tz": -180,
     "elapsed": 2864603,
     "user": {
      "displayName": "Екатерина Тузина",
      "photoUrl": "",
      "userId": "07782360743022317546"
     }
    },
    "colab": {
     "base_uri": "https://localhost:8080/",
     "height": 136
    }
   },
   "source": [
    "y_pred = model.predict(x_test)\n",
    "\n",
    "total = np.array([True] * len(x_test))\n",
    "for i, (y1, y2) in enumerate(zip(y_test, y_pred)):\n",
    "  cur = np.argmax(y1, axis=1) == np.argmax(y2, axis=1)\n",
    "  total = np.logical_and(total, cur)\n",
    "\n",
    "  acc = np.mean(cur.astype(np.int))\n",
    "  #history[f'test_out_{i}_acc'] = acc\n",
    "  print(f'Accuracy of out_{i} = {acc:.5f}')\n",
    "\n",
    "acc = np.mean(total.astype(np.int))\n",
    "#history['test_acc'] = acc\n",
    "print(f'Accuracy = {acc:.5f}')"
   ],
   "execution_count": null,
   "outputs": []
  },
  {
   "cell_type": "code",
   "metadata": {
    "id": "unqrIzT83FMd",
    "colab_type": "code",
    "colab": {
     "base_uri": "https://localhost:8080/",
     "height": 51
    },
    "outputId": "e12dc21f-f628-41b8-9cb7-4e0666670373",
    "executionInfo": {
     "status": "ok",
     "timestamp": 1587333698873,
     "user_tz": -180,
     "elapsed": 2867800,
     "user": {
      "displayName": "Екатерина Тузина",
      "photoUrl": "",
      "userId": "07782360743022317546"
     }
    }
   },
   "source": [
    "input = keras.layers.Input(shape=(96, 96, 3))\n",
    "\n",
    "mobile_net = keras.applications.mobilenet_v2.MobileNetV2(\n",
    "  include_top=False,\n",
    "  weights='imagenet',\n",
    "  input_shape=(96, 96, 3),\n",
    "  input_tensor=input,\n",
    "  pooling='avg'\n",
    ")\n",
    "\n",
    "dropout = keras.layers.Dropout(rate=0.1)(mobile_net.output)\n",
    "\n",
    "outputs = [\n",
    "  keras.layers.Dense(11, activation='softmax', name=f'out_{i}')(dropout)\n",
    "  for i in range(6)\n",
    "]\n",
    "\n",
    "model1 = keras.models.Model(\n",
    "  inputs=[input],\n",
    "  outputs=outputs\n",
    ")\n",
    "model1.compile(\n",
    "  optimizer=keras.optimizers.Adam(lr=0.001),\n",
    "  loss='categorical_crossentropy',\n",
    "  metrics=['categorical_accuracy'],\n",
    "  loss_weights=[1, 1, 0.5, 0.3, 0.1, 0.05]\n",
    ")"
   ],
   "execution_count": null,
   "outputs": []
  },
  {
   "cell_type": "code",
   "metadata": {
    "id": "TZNNPauQ39MJ",
    "colab_type": "code",
    "outputId": "0d0f3a2e-31af-406e-822a-e39510fdd819",
    "executionInfo": {
     "status": "ok",
     "timestamp": 1587334261242,
     "user_tz": -180,
     "elapsed": 3430150,
     "user": {
      "displayName": "Екатерина Тузина",
      "photoUrl": "",
      "userId": "07782360743022317546"
     }
    },
    "colab": {
     "base_uri": "https://localhost:8080/",
     "height": 428
    }
   },
   "source": [
    "model.fit(\n",
    "                x_train,\n",
    "                y_train,\n",
    "                epochs=100,\n",
    "                batch_size=32,\n",
    "                verbose=2,\n",
    "                validation_split=0.1,\n",
    "                callbacks=[\n",
    "                    keras.callbacks.EarlyStopping(\n",
    "                        patience=10,\n",
    "                        restore_best_weights=True\n",
    "                    )\n",
    "                ]\n",
    "            )"
   ],
   "execution_count": null,
   "outputs": []
  },
  {
   "cell_type": "code",
   "metadata": {
    "id": "5WD3aklU4GNW",
    "colab_type": "code",
    "outputId": "79bd5c7b-adbb-450e-9f01-db3e088e37f6",
    "executionInfo": {
     "status": "ok",
     "timestamp": 1587334265081,
     "user_tz": -180,
     "elapsed": 3433967,
     "user": {
      "displayName": "Екатерина Тузина",
      "photoUrl": "",
      "userId": "07782360743022317546"
     }
    },
    "colab": {
     "base_uri": "https://localhost:8080/",
     "height": 136
    }
   },
   "source": [
    "y_pred = model1.predict(x_test)\n",
    "\n",
    "total = np.array([True] * len(x_test))\n",
    "for i, (y1, y2) in enumerate(zip(y_test, y_pred)):\n",
    "  cur = np.argmax(y1, axis=1) == np.argmax(y2, axis=1)\n",
    "  total = np.logical_and(total, cur)\n",
    "\n",
    "  acc = np.mean(cur.astype(np.int))\n",
    "  #history[f'test_out_{i}_acc'] = acc\n",
    "  print(f'Accuracy of out_{i} = {acc:.5f}')\n",
    "\n",
    "acc = np.mean(total.astype(np.int))\n",
    "#history['test_acc'] = acc\n",
    "print(f'Accuracy = {acc:.5f}')"
   ],
   "execution_count": null,
   "outputs": []
  },
  {
   "cell_type": "code",
   "metadata": {
    "id": "DnVMIME6_9bj",
    "colab_type": "code",
    "colab": {}
   },
   "source": [
    "model.save_weights('models/svhn_multiple_mobile_net_extra/model')"
   ],
   "execution_count": null,
   "outputs": []
  },
  {
   "cell_type": "code",
   "metadata": {
    "id": "S-4TLy61AI6y",
    "colab_type": "code",
    "outputId": "8a88ebca-0d3e-4a49-eff3-d505fb46049c",
    "executionInfo": {
     "status": "ok",
     "timestamp": 1587334269000,
     "user_tz": -180,
     "elapsed": 3437845,
     "user": {
      "displayName": "Екатерина Тузина",
      "photoUrl": "",
      "userId": "07782360743022317546"
     }
    },
    "colab": {
     "base_uri": "https://localhost:8080/",
     "height": 34
    }
   },
   "source": [
    "!ls models/svhn_multiple_mobile_net_extra/"
   ],
   "execution_count": null,
   "outputs": []
  }
 ]
}
