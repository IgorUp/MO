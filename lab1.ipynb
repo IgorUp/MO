{
 "nbformat": 4,
 "nbformat_minor": 0,
 "metadata": {
  "colab": {
   "name": "lab1.ipynb",
   "provenance": [
    {
     "file_id": "1BYO7iGvfJ5q33WynEY0xpHKxcoiV2pxF",
     "timestamp": 1586899973665
    }
   ],
   "collapsed_sections": []
  },
  "kernelspec": {
   "name": "python3",
   "display_name": "Python 3"
  }
 },
 "cells": [
  {
   "cell_type": "code",
   "metadata": {
    "id": "HdBYbDpmg_0S",
    "colab_type": "code",
    "outputId": "bf0b008d-b3ba-4c01-d688-9a8ba3073784",
    "executionInfo": {
     "status": "ok",
     "timestamp": 1587054024267,
     "user_tz": -180,
     "elapsed": 9551,
     "user": {
      "displayName": "Екатерина Тузина",
      "photoUrl": "",
      "userId": "07782360743022317546"
     }
    },
    "colab": {
     "base_uri": "https://localhost:8080/",
     "height": 170
    }
   },
   "source": [
    "import os\n",
    "try:\n",
    "  import wget\n",
    "except: \n",
    "  !pip install wget\n",
    "  import wget\n",
    "import tarfile\n",
    "\n",
    "\n",
    "out_dir = 'data/not_mnist'\n",
    "small_arhive = f'{out_dir}/notMNIST_small.tar.gz'\n",
    "large_arhive = f'{out_dir}/notMNIST_large.tar.gz'\n",
    "large_url = 'https://commondatastorage.googleapis.com/books1000/notMNIST_large.tar.gz'\n",
    "small_url = 'https://commondatastorage.googleapis.com/books1000/notMNIST_small.tar.gz'"
   ],
   "execution_count": null,
   "outputs": []
  },
  {
   "cell_type": "code",
   "metadata": {
    "id": "CBSFpzB8hVbS",
    "colab_type": "code",
    "outputId": "aedb2df4-a7a1-4cc3-e10e-1b4a7afe1a16",
    "executionInfo": {
     "status": "ok",
     "timestamp": 1587054039375,
     "user_tz": -180,
     "elapsed": 24605,
     "user": {
      "displayName": "Екатерина Тузина",
      "photoUrl": "",
      "userId": "07782360743022317546"
     }
    },
    "colab": {
     "base_uri": "https://localhost:8080/",
     "height": 85
    }
   },
   "source": [
    "if not os.path.exists(out_dir):\n",
    "  os.makedirs(out_dir)\n",
    "\n",
    "if not os.path.exists(small_arhive):\n",
    "  print(f\"Downloading {small_arhive}.\")\n",
    "  wget.download(small_url, small_arhive)\n",
    "  print()\n",
    "else:\n",
    "  print(f\"Skipping {small_arhive} download (already exists)\")\n",
    "\n",
    "if not os.path.exists(large_arhive):\n",
    "  print(f\"Downloading {large_arhive}.\")\n",
    "  wget.download(large_url, large_arhive)\n",
    "  print()\n",
    "else:\n",
    "  print(f\"Skipping {large_arhive} download (already exists)\")"
   ],
   "execution_count": null,
   "outputs": []
  },
  {
   "cell_type": "code",
   "metadata": {
    "id": "RczTDleyhsFO",
    "colab_type": "code",
    "outputId": "d812be3e-c092-4114-cb5b-5d8da298bce2",
    "executionInfo": {
     "status": "ok",
     "timestamp": 1587054155692,
     "user_tz": -180,
     "elapsed": 140874,
     "user": {
      "displayName": "Екатерина Тузина",
      "photoUrl": "",
      "userId": "07782360743022317546"
     }
    },
    "colab": {
     "base_uri": "https://localhost:8080/",
     "height": 51
    }
   },
   "source": [
    "print(f\"Extracting {small_arhive}\")\n",
    "with tarfile.open(small_arhive) as tar:\n",
    "  tar.extractall(out_dir)\n",
    "\n",
    "print(f\"Extracting {large_arhive}\")\n",
    "with tarfile.open(large_arhive) as tar:\n",
    "  tar.extractall(out_dir)"
   ],
   "execution_count": null,
   "outputs": []
  },
  {
   "cell_type": "code",
   "metadata": {
    "id": "ybTw8UfjiD-x",
    "colab_type": "code",
    "colab": {}
   },
   "source": [
    "import numpy as np\n",
    "from pathlib import Path\n",
    "from PIL import Image\n",
    "\n",
    "def remove_duplicates(img_train, labels_train, img_test):\n",
    "    img_new, labels_new = [], []\n",
    "    test_set = {e.tostring() for e in img_test}\n",
    "    for i, (x, y) in enumerate(zip(img_train, labels_train)):\n",
    "        if x.tostring() not in test_set:\n",
    "            img_new.append(x)\n",
    "            labels_new.append(y)\n",
    "\n",
    "    print(f'Removed {img_train.shape[0] - len(img_new)} duplicated images')\n",
    "    return np.array(img_new), np.array(labels_new)\n",
    "\n",
    "def load_images(path, n):\n",
    "    labels = ['I', 'G', 'A', 'F', 'H', 'J', 'C', 'D', 'E', 'B']\n",
    "\n",
    "    x, y = [], []\n",
    "    for i, l in enumerate(labels):\n",
    "        d = Path(path) / l\n",
    "        print(f'Loading {str(d)} ', end='')\n",
    "        for j, f in zip(range(n), d.iterdir()):\n",
    "            try:\n",
    "                with Image.open(f) as img:\n",
    "                    x.append(np.array(img))\n",
    "                    y.append(i)\n",
    "            except OSError:\n",
    "                pass\n",
    "            if j % 1000 == 0:\n",
    "                print('.', end='', flush=True)\n",
    "        print(flush=True)\n",
    "    return np.array(labels), np.array(x), np.array(y)\n",
    "\n",
    "def load_not_mnist_data(path='data/not_mnist/', use_cache=True):\n",
    "    train_folder = Path(path) / 'notMNIST_large'\n",
    "    test_folder = Path(path) / 'notMNIST_small'\n",
    "\n",
    "    train_cache_file = Path(path) / 'train.npz'\n",
    "    test_cache_file = Path(path) / 'test.npz'\n",
    "\n",
    "    if train_cache_file.exists() and test_cache_file.exists() and use_cache:\n",
    "        f = np.load(train_cache_file)\n",
    "        labels, img_train, labels_train = [v for k, v in f.items()]\n",
    "        f = np.load(test_cache_file)\n",
    "        labels, img_test, labels_test = [v for k, v in f.items()]\n",
    "        print('Loaded cached arrays')\n",
    "\n",
    "    else:\n",
    "        labels, img_train, labels_train = load_images(train_folder, 10000000)\n",
    "        labels, img_test, labels_test = load_images(test_folder, 10000000)\n",
    "        np.savez(train_cache_file, labels, img_train, labels_train)\n",
    "        np.savez(test_cache_file, labels, img_test, labels_test)\n",
    "\n",
    "    return labels, img_train, labels_train, img_test, labels_test"
   ],
   "execution_count": null,
   "outputs": []
  },
  {
   "cell_type": "code",
   "metadata": {
    "id": "AQB3zsbRiqxr",
    "colab_type": "code",
    "outputId": "e341e70a-b02b-40b8-d77c-6fb1aa2386ca",
    "executionInfo": {
     "status": "ok",
     "timestamp": 1587054264591,
     "user_tz": -180,
     "elapsed": 249705,
     "user": {
      "displayName": "Екатерина Тузина",
      "photoUrl": "",
      "userId": "07782360743022317546"
     }
    },
    "colab": {
     "base_uri": "https://localhost:8080/",
     "height": 1000
    }
   },
   "source": [
    "load_not_mnist_data()"
   ],
   "execution_count": null,
   "outputs": []
  },
  {
   "cell_type": "code",
   "metadata": {
    "id": "76do6zy0qvHI",
    "colab_type": "code",
    "outputId": "0dbffd3b-afde-4bb5-838a-8515db58f9f6",
    "executionInfo": {
     "status": "ok",
     "timestamp": 1587054265720,
     "user_tz": -180,
     "elapsed": 250788,
     "user": {
      "displayName": "Екатерина Тузина",
      "photoUrl": "",
      "userId": "07782360743022317546"
     }
    },
    "colab": {
     "base_uri": "https://localhost:8080/",
     "height": 34
    }
   },
   "source": [
    "labels, img_train, labels_train, img_test, labels_test = load_not_mnist_data()"
   ],
   "execution_count": null,
   "outputs": []
  },
  {
   "cell_type": "code",
   "metadata": {
    "id": "oUA0G7U1MVDM",
    "colab_type": "code",
    "outputId": "734712af-fd23-44ab-8528-71543fc2c2dc",
    "executionInfo": {
     "status": "ok",
     "timestamp": 1587054265723,
     "user_tz": -180,
     "elapsed": 250750,
     "user": {
      "displayName": "Екатерина Тузина",
      "photoUrl": "",
      "userId": "07782360743022317546"
     }
    },
    "colab": {
     "base_uri": "https://localhost:8080/",
     "height": 404
    }
   },
   "source": [
    "import matplotlib.pyplot as plt\n",
    "\n",
    "\n",
    "\n",
    "\n",
    "rows = 3\n",
    "cols = 3\n",
    "fig = plt.figure(figsize=(16, 6.5))\n",
    "for i in range(1, cols * rows + 1):\n",
    "    ax = fig.add_subplot(rows, cols, i)\n",
    "    ax.set_xticks([])\n",
    "    ax.set_yticks([])\n",
    "    ax.set\n",
    "    \n",
    "    j = np.random.randint(0, labels_test.shape[0] - 1)\n",
    "    ax.set_title(labels[labels_test[j]])\n",
    "    plt.imshow(img_test[j], cmap='gray')"
   ],
   "execution_count": null,
   "outputs": []
  },
  {
   "cell_type": "code",
   "metadata": {
    "id": "Yo7rrmDFN9rh",
    "colab_type": "code",
    "outputId": "8840ebad-5b02-4798-d8f9-6ad6add39531",
    "executionInfo": {
     "status": "ok",
     "timestamp": 1587054266531,
     "user_tz": -180,
     "elapsed": 251520,
     "user": {
      "displayName": "Екатерина Тузина",
      "photoUrl": "",
      "userId": "07782360743022317546"
     }
    },
    "colab": {
     "base_uri": "https://localhost:8080/",
     "height": 815
    }
   },
   "source": [
    "from collections import defaultdict\n",
    "\n",
    "plt.rcParams['font.size'] = 16\n",
    "\n",
    "def show_balance(title, ax, a, labels):\n",
    "    counts = defaultdict(int)\n",
    "    for e in a:\n",
    "        counts[labels[e]] += 1\n",
    "        \n",
    "    print(counts)\n",
    "        \n",
    "    ax.bar(counts.keys(), counts.values())\n",
    "    ax.set_title(title)\n",
    "    \n",
    "fig = plt.figure(figsize=(15, 13), )\n",
    "show_balance(\"Train\", fig.add_subplot(2, 1, 1), labels_train, labels)\n",
    "show_balance(\"Test\", fig.add_subplot(2, 1, 2), labels_test, labels)"
   ],
   "execution_count": null,
   "outputs": []
  },
  {
   "cell_type": "code",
   "metadata": {
    "id": "Uy0FDL1Ou1We",
    "colab_type": "code",
    "colab": {}
   },
   "source": [
    "from sklearn.linear_model import SGDClassifier, LogisticRegression\n",
    "from sklearn.model_selection import train_test_split\n",
    "\n",
    "def flatten(a):\n",
    "    return a.reshape(a.shape[0], a.shape[1] * a.shape[2])\n",
    "\n",
    "def load_data():\n",
    "    labels, img_train, labels_train, img_test, labels_test = load_not_mnist_data()\n",
    "    img_train, labels_train = remove_duplicates(img_train, labels_train, img_test)\n",
    "    return labels, flatten(img_train), labels_train, flatten(img_test), labels_test"
   ],
   "execution_count": null,
   "outputs": []
  },
  {
   "cell_type": "code",
   "metadata": {
    "id": "9udnwtbhvNur",
    "colab_type": "code",
    "outputId": "fc267e30-a5c9-4660-d8bf-5d66e40a1697",
    "executionInfo": {
     "status": "ok",
     "timestamp": 1587054269639,
     "user_tz": -180,
     "elapsed": 254587,
     "user": {
      "displayName": "Екатерина Тузина",
      "photoUrl": "",
      "userId": "07782360743022317546"
     }
    },
    "colab": {
     "base_uri": "https://localhost:8080/",
     "height": 170
    }
   },
   "source": [
    "\n",
    "_, x_train, y_train, x_test, y_test = load_data()\n",
    "x_train, x_val, y_train, y_val = train_test_split(x_train, y_train, train_size=200000, test_size=10000)\n",
    "print(x_train.shape)\n",
    "print(y_train.shape)\n",
    "print(y_val.shape)\n",
    "x_train, y_train = remove_duplicates(x_train, y_train, x_val)\n",
    "print(x_train.shape)\n",
    "print(y_train.shape)\n",
    "print(y_val.shape)\n"
   ],
   "execution_count": null,
   "outputs": []
  },
  {
   "cell_type": "code",
   "metadata": {
    "id": "ImCvs2ZowQ99",
    "colab_type": "code",
    "outputId": "d4aad77d-672f-47f7-ace2-945be7b5299f",
    "executionInfo": {
     "status": "ok",
     "timestamp": 1587055633746,
     "user_tz": -180,
     "elapsed": 1618675,
     "user": {
      "displayName": "Екатерина Тузина",
      "photoUrl": "",
      "userId": "07782360743022317546"
     }
    },
    "colab": {
     "base_uri": "https://localhost:8080/",
     "height": 102
    }
   },
   "source": [
    "results = {}\n",
    "results.setdefault('val_acc', {})\n",
    "ns = [50, 100, 1000, 50000]\n",
    "\n",
    "print('Training Logistic Regression model:')\n",
    "for n in ns:\n",
    "  count = np.arange(len(x_train))\n",
    "  if n < len(x_train):\n",
    "    count = np.random.choice(count, n, replace=False)\n",
    "\n",
    "  # model = SGDClassifier(loss='log', tol=1e-4, early_stopping=True)\n",
    "  model = LogisticRegression(max_iter = 10000)\n",
    "  model.fit(x_train[count], y_train[count])\n",
    "\n",
    "  y_pred = model.predict(x_val)\n",
    "  results[\"val_acc\"][str(n)] = acc = np.mean(np.equal(y_pred, y_val).astype(np.int))\n",
    "  print(f\"n = {n}, accuracy = {acc:.5f}, iterations = {model.n_iter_}\")"
   ],
   "execution_count": null,
   "outputs": []
  },
  {
   "cell_type": "code",
   "metadata": {
    "id": "wx9xrHM6dT8t",
    "colab_type": "code",
    "outputId": "1074cbb7-bdf4-4a2a-d72a-b8faf01511a7",
    "executionInfo": {
     "status": "ok",
     "timestamp": 1587055633747,
     "user_tz": -180,
     "elapsed": 1618656,
     "user": {
      "displayName": "Екатерина Тузина",
      "photoUrl": "",
      "userId": "07782360743022317546"
     }
    },
    "colab": {
     "base_uri": "https://localhost:8080/",
     "height": 51
    }
   },
   "source": [
    "print (results[\"val_acc\"].keys())\n",
    "print (results[\"val_acc\"].values())"
   ],
   "execution_count": null,
   "outputs": []
  },
  {
   "cell_type": "code",
   "metadata": {
    "id": "sTvIO5KtYB-Q",
    "colab_type": "code",
    "outputId": "fd0040a0-7313-4ac3-93a7-27b85d4c8bb8",
    "executionInfo": {
     "status": "ok",
     "timestamp": 1587063182956,
     "user_tz": -180,
     "elapsed": 1292,
     "user": {
      "displayName": "Екатерина Тузина",
      "photoUrl": "",
      "userId": "07782360743022317546"
     }
    },
    "colab": {
     "base_uri": "https://localhost:8080/",
     "height": 379
    }
   },
   "source": [
    "# The Data\n",
    "x = list(results[\"val_acc\"].keys())\n",
    "y = list(results[\"val_acc\"].values())\n",
    "\n",
    "# Create the figure and axes objects\n",
    "fig, ax = plt.subplots(1, figsize=(15, 6))\n",
    "\n",
    "# Plot the data\n",
    "ax.plot(x,y)\n",
    "\n",
    "# Show the grid lines as dark grey lines\n",
    "plt.grid()\n",
    "\n",
    "plt.show()"
   ],
   "execution_count": null,
   "outputs": []
  }
 ]
}
